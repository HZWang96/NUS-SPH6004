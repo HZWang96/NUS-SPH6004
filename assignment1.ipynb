{
 "cells": [
  {
   "attachments": {},
   "cell_type": "markdown",
   "metadata": {},
   "source": [
    "## SPH6004 Assignment 1: Predict the need for intubatation of an ICU patient using clinical data from the MIMIC-IV dataset"
   ]
  },
  {
   "attachments": {},
   "cell_type": "markdown",
   "metadata": {},
   "source": [
    "### Propose and implement a strategy to select the right features for the predictive model"
   ]
  },
  {
   "cell_type": "code",
   "execution_count": 1,
   "metadata": {},
   "outputs": [
    {
     "name": "stdout",
     "output_type": "stream",
     "text": [
      "Number of datapoints: 36489\n",
      "Number of features: 60\n",
      "False    35160\n",
      "True      1329\n",
      "Name: outcome, dtype: int64\n"
     ]
    }
   ],
   "source": [
    "# Load Assignment_1_data.csv into a Pandas dataframe and display the 5 rows of the data\n",
    "import pandas as pd\n",
    "df = pd.read_csv('Assignment_1_data.csv')\n",
    "df.head()\n",
    "\n",
    "# Print the number of datapoints and features in the dataframe\n",
    "print(\"Number of datapoints:\", df.shape[0])\n",
    "print(\"Number of features:\", df.shape[1])\n",
    "# Print the number datapoints of each outcome\n",
    "print(df['outcome'].value_counts())"
   ]
  },
  {
   "cell_type": "code",
   "execution_count": 2,
   "metadata": {},
   "outputs": [
    {
     "name": "stdout",
     "output_type": "stream",
     "text": [
      "(36489, 32)\n",
      "(34339, 32)\n",
      "['gender', 'age', 'heart_rate_min', 'heart_rate_max', 'heart_rate_mean', 'mbp_min', 'mbp_max', 'mbp_mean', 'sbp_min', 'sbp_max', 'sbp_mean', 'dbp_min', 'dbp_max', 'dbp_mean', 'temperature_min', 'temperature_max', 'temperature_mean', 'glucose_min', 'glucose_max', 'wbc_min', 'wbc_max', 'creatinine_min', 'creatinine_max', 'hemoglobin_min', 'hemoglobin_max', 'urineoutput', 'sofa_coagulation', 'sofa_cardiovascular', 'sofa_cns', 'sofa_renal', 'charlson_comorbidity_index', 'outcome']\n",
      "False    33062\n",
      "True      1277\n",
      "Name: outcome, dtype: int64\n"
     ]
    }
   ],
   "source": [
    "# Remove multiple columns from the dataframe and display the 5 rows of the data\n",
    "df.drop(['lactate_min','lactate_max',\n",
    "         'ph_min','ph_max',\n",
    "         'chloride_min','chloride_max',\n",
    "         'calcium_min','calcium_max',\n",
    "         'sodium_min','sodium_max',\n",
    "         'total_protein_min','total_protein_max',\n",
    "         'pt_min','pt_max',\n",
    "         'alt_min','alt_max',\n",
    "         'alp_min','alp_max',\n",
    "         'ast_min','ast_max',\n",
    "         'bilirubin_total_min','bilirubin_total_max',\n",
    "         'bilirubin_direct_min','bilirubin_direct_max',\n",
    "         'bilirubin_indirect_min','bilirubin_indirect_max',\n",
    "         'sofa_respiration','sofa_liver'\n",
    "         ], axis=1, inplace=True)\n",
    "\n",
    "print(df.shape)\n",
    "\n",
    "\n",
    "# Remove rows with missing values\n",
    "df.dropna(inplace=True)\n",
    "\n",
    "# Replace \"M\" and \"F\" in the \"gender\" column with 0 and 1\n",
    "df['gender'] = df['gender'].replace({'M': 0, 'F': 1})\n",
    "df.head()\n",
    "\n",
    "# Remove rows where \"urineoutput\" is a negative value\n",
    "df = df[df['urineoutput'] >= 0]\n",
    "print(df.shape)\n",
    "\n",
    "# get the features names in a list\n",
    "features = df.columns.tolist()\n",
    "print(features)\n",
    "\n",
    "# Print the number datapoints of each outcome\n",
    "print(df['outcome'].value_counts())\n"
   ]
  },
  {
   "cell_type": "code",
   "execution_count": 3,
   "metadata": {},
   "outputs": [
    {
     "name": "stdout",
     "output_type": "stream",
     "text": [
      "(66124, 31)\n",
      "False    33062\n",
      "True     33062\n",
      "Name: outcome, dtype: int64\n"
     ]
    }
   ],
   "source": [
    "# Correct the dataset imbalance using SMOTE to oversample the minority class (outcome = 1)\n",
    "from imblearn.over_sampling import SMOTE\n",
    "sm = SMOTE(random_state=42)\n",
    "X = df.drop('outcome', axis=1)\n",
    "y = df['outcome']\n",
    "X_res, y_res = sm.fit_resample(X, y)\n",
    "print(X_res.shape)\n",
    "\n",
    "# Print the number datapoints of each outcome in y_res\n",
    "print(pd.Series(y_res).value_counts())\n",
    "\n",
    "# Save the normalized and balanced dataset to a csv file\n",
    "df_new = pd.concat([X_res, y_res], axis=1)\n",
    "# df_new.to_csv('Assignment_1_data_new.csv', index=False)"
   ]
  },
  {
   "cell_type": "code",
   "execution_count": 4,
   "metadata": {},
   "outputs": [
    {
     "name": "stdout",
     "output_type": "stream",
     "text": [
      "(57001, 32)\n",
      "True     29972\n",
      "False    27029\n",
      "Name: outcome, dtype: int64\n"
     ]
    }
   ],
   "source": [
    "# Remove all the rows with feature values that are outside of the 0.3th and 99.7th percentile\n",
    "for feature in features:\n",
    "    if feature != 'outcome':\n",
    "        df_new = df_new[df_new[feature] <= df_new[feature].quantile(0.997)]\n",
    "        df_new = df_new[df_new[feature] >= df_new[feature].quantile(0.003)]\n",
    "print(df_new.shape)\n",
    "\n",
    "# Print the number datapoints of each outcome\n",
    "print(df_new['outcome'].value_counts())"
   ]
  },
  {
   "cell_type": "code",
   "execution_count": 6,
   "metadata": {},
   "outputs": [
    {
     "data": {
      "text/html": [
       "<div>\n",
       "<style scoped>\n",
       "    .dataframe tbody tr th:only-of-type {\n",
       "        vertical-align: middle;\n",
       "    }\n",
       "\n",
       "    .dataframe tbody tr th {\n",
       "        vertical-align: top;\n",
       "    }\n",
       "\n",
       "    .dataframe thead th {\n",
       "        text-align: right;\n",
       "    }\n",
       "</style>\n",
       "<table border=\"1\" class=\"dataframe\">\n",
       "  <thead>\n",
       "    <tr style=\"text-align: right;\">\n",
       "      <th></th>\n",
       "      <th>gender</th>\n",
       "      <th>age</th>\n",
       "      <th>heart_rate_min</th>\n",
       "      <th>heart_rate_max</th>\n",
       "      <th>heart_rate_mean</th>\n",
       "      <th>mbp_min</th>\n",
       "      <th>mbp_max</th>\n",
       "      <th>mbp_mean</th>\n",
       "      <th>sbp_min</th>\n",
       "      <th>sbp_max</th>\n",
       "      <th>...</th>\n",
       "      <th>creatinine_max</th>\n",
       "      <th>hemoglobin_min</th>\n",
       "      <th>hemoglobin_max</th>\n",
       "      <th>urineoutput</th>\n",
       "      <th>sofa_coagulation</th>\n",
       "      <th>sofa_cardiovascular</th>\n",
       "      <th>sofa_cns</th>\n",
       "      <th>sofa_renal</th>\n",
       "      <th>charlson_comorbidity_index</th>\n",
       "      <th>outcome</th>\n",
       "    </tr>\n",
       "  </thead>\n",
       "  <tbody>\n",
       "    <tr>\n",
       "      <th>0</th>\n",
       "      <td>0</td>\n",
       "      <td>0.454833</td>\n",
       "      <td>0.7125</td>\n",
       "      <td>0.477876</td>\n",
       "      <td>0.673693</td>\n",
       "      <td>0.540230</td>\n",
       "      <td>0.159807</td>\n",
       "      <td>0.470187</td>\n",
       "      <td>0.385566</td>\n",
       "      <td>0.521368</td>\n",
       "      <td>...</td>\n",
       "      <td>0.151098</td>\n",
       "      <td>0.360360</td>\n",
       "      <td>0.182859</td>\n",
       "      <td>0.496974</td>\n",
       "      <td>0.000000</td>\n",
       "      <td>0.25</td>\n",
       "      <td>0.00</td>\n",
       "      <td>0.25</td>\n",
       "      <td>0.200000</td>\n",
       "      <td>False</td>\n",
       "    </tr>\n",
       "    <tr>\n",
       "      <th>1</th>\n",
       "      <td>0</td>\n",
       "      <td>0.886963</td>\n",
       "      <td>0.1750</td>\n",
       "      <td>0.000000</td>\n",
       "      <td>0.017787</td>\n",
       "      <td>0.586207</td>\n",
       "      <td>0.124849</td>\n",
       "      <td>0.271816</td>\n",
       "      <td>0.473342</td>\n",
       "      <td>0.333333</td>\n",
       "      <td>...</td>\n",
       "      <td>0.127853</td>\n",
       "      <td>0.693694</td>\n",
       "      <td>0.629849</td>\n",
       "      <td>0.289625</td>\n",
       "      <td>0.294697</td>\n",
       "      <td>0.25</td>\n",
       "      <td>0.25</td>\n",
       "      <td>0.25</td>\n",
       "      <td>0.533333</td>\n",
       "      <td>False</td>\n",
       "    </tr>\n",
       "    <tr>\n",
       "      <th>2</th>\n",
       "      <td>0</td>\n",
       "      <td>0.260622</td>\n",
       "      <td>0.4250</td>\n",
       "      <td>0.389381</td>\n",
       "      <td>0.406014</td>\n",
       "      <td>0.643678</td>\n",
       "      <td>0.119855</td>\n",
       "      <td>0.361677</td>\n",
       "      <td>0.462370</td>\n",
       "      <td>0.230769</td>\n",
       "      <td>...</td>\n",
       "      <td>0.034869</td>\n",
       "      <td>0.180180</td>\n",
       "      <td>0.000000</td>\n",
       "      <td>0.438040</td>\n",
       "      <td>0.294697</td>\n",
       "      <td>0.25</td>\n",
       "      <td>0.25</td>\n",
       "      <td>0.00</td>\n",
       "      <td>0.266667</td>\n",
       "      <td>False</td>\n",
       "    </tr>\n",
       "    <tr>\n",
       "      <th>3</th>\n",
       "      <td>0</td>\n",
       "      <td>0.710964</td>\n",
       "      <td>0.4000</td>\n",
       "      <td>0.327434</td>\n",
       "      <td>0.411953</td>\n",
       "      <td>0.735632</td>\n",
       "      <td>0.164801</td>\n",
       "      <td>0.505433</td>\n",
       "      <td>0.341678</td>\n",
       "      <td>0.393162</td>\n",
       "      <td>...</td>\n",
       "      <td>0.139475</td>\n",
       "      <td>0.621622</td>\n",
       "      <td>0.579055</td>\n",
       "      <td>0.227954</td>\n",
       "      <td>0.000000</td>\n",
       "      <td>0.00</td>\n",
       "      <td>0.00</td>\n",
       "      <td>0.25</td>\n",
       "      <td>0.400000</td>\n",
       "      <td>False</td>\n",
       "    </tr>\n",
       "    <tr>\n",
       "      <th>4</th>\n",
       "      <td>0</td>\n",
       "      <td>0.674804</td>\n",
       "      <td>0.5125</td>\n",
       "      <td>0.300885</td>\n",
       "      <td>0.437186</td>\n",
       "      <td>0.229885</td>\n",
       "      <td>0.109867</td>\n",
       "      <td>0.109374</td>\n",
       "      <td>0.001545</td>\n",
       "      <td>0.230769</td>\n",
       "      <td>...</td>\n",
       "      <td>0.418426</td>\n",
       "      <td>0.477477</td>\n",
       "      <td>0.568896</td>\n",
       "      <td>0.047406</td>\n",
       "      <td>0.000000</td>\n",
       "      <td>1.00</td>\n",
       "      <td>0.25</td>\n",
       "      <td>0.75</td>\n",
       "      <td>0.666667</td>\n",
       "      <td>False</td>\n",
       "    </tr>\n",
       "  </tbody>\n",
       "</table>\n",
       "<p>5 rows × 32 columns</p>\n",
       "</div>"
      ],
      "text/plain": [
       "   gender       age  heart_rate_min  heart_rate_max  heart_rate_mean  \\\n",
       "0       0  0.454833          0.7125        0.477876         0.673693   \n",
       "1       0  0.886963          0.1750        0.000000         0.017787   \n",
       "2       0  0.260622          0.4250        0.389381         0.406014   \n",
       "3       0  0.710964          0.4000        0.327434         0.411953   \n",
       "4       0  0.674804          0.5125        0.300885         0.437186   \n",
       "\n",
       "    mbp_min   mbp_max  mbp_mean   sbp_min   sbp_max  ...  creatinine_max  \\\n",
       "0  0.540230  0.159807  0.470187  0.385566  0.521368  ...        0.151098   \n",
       "1  0.586207  0.124849  0.271816  0.473342  0.333333  ...        0.127853   \n",
       "2  0.643678  0.119855  0.361677  0.462370  0.230769  ...        0.034869   \n",
       "3  0.735632  0.164801  0.505433  0.341678  0.393162  ...        0.139475   \n",
       "4  0.229885  0.109867  0.109374  0.001545  0.230769  ...        0.418426   \n",
       "\n",
       "   hemoglobin_min  hemoglobin_max  urineoutput  sofa_coagulation  \\\n",
       "0        0.360360        0.182859     0.496974          0.000000   \n",
       "1        0.693694        0.629849     0.289625          0.294697   \n",
       "2        0.180180        0.000000     0.438040          0.294697   \n",
       "3        0.621622        0.579055     0.227954          0.000000   \n",
       "4        0.477477        0.568896     0.047406          0.000000   \n",
       "\n",
       "   sofa_cardiovascular  sofa_cns  sofa_renal  charlson_comorbidity_index  \\\n",
       "0                 0.25      0.00        0.25                    0.200000   \n",
       "1                 0.25      0.25        0.25                    0.533333   \n",
       "2                 0.25      0.25        0.00                    0.266667   \n",
       "3                 0.00      0.00        0.25                    0.400000   \n",
       "4                 1.00      0.25        0.75                    0.666667   \n",
       "\n",
       "   outcome  \n",
       "0    False  \n",
       "1    False  \n",
       "2    False  \n",
       "3    False  \n",
       "4    False  \n",
       "\n",
       "[5 rows x 32 columns]"
      ]
     },
     "execution_count": 6,
     "metadata": {},
     "output_type": "execute_result"
    }
   ],
   "source": [
    "# Normalize all the features except the gender and outcome\n",
    "from sklearn.preprocessing import MinMaxScaler\n",
    "scaler = MinMaxScaler()\n",
    "df_new[features[1:-1]] = scaler.fit_transform(df_new[features[1:-1]])\n",
    "df_new.head()"
   ]
  },
  {
   "cell_type": "code",
   "execution_count": 7,
   "metadata": {},
   "outputs": [],
   "source": [
    "# Create a train and test set using all 32 features (this is for creating a baseline model)\n",
    "from sklearn.model_selection import train_test_split\n",
    "X = df_new.drop('outcome', axis=1)\n",
    "y = df_new['outcome']\n",
    "X_base_train, X_base_test, y_base_train, y_base_test = train_test_split(X, y, test_size=0.2, random_state=42)"
   ]
  },
  {
   "cell_type": "code",
   "execution_count": 8,
   "metadata": {},
   "outputs": [
    {
     "name": "stdout",
     "output_type": "stream",
     "text": [
      "Selected features:  [ 0  2  8 11 16 25 28]\n"
     ]
    },
    {
     "name": "stderr",
     "output_type": "stream",
     "text": [
      "/home/haozhe/anaconda3/envs/sph6004/lib/python3.8/site-packages/sklearn/base.py:413: UserWarning: X has feature names, but SelectFromModel was fitted without feature names\n",
      "  warnings.warn(\n"
     ]
    },
    {
     "data": {
      "text/plain": [
       "(57001, 7)"
      ]
     },
     "execution_count": 8,
     "metadata": {},
     "output_type": "execute_result"
    }
   ],
   "source": [
    "# Perform feature selection using Elastic Net Regression\n",
    "from sklearn.datasets import make_regression\n",
    "from sklearn.linear_model import ElasticNet\n",
    "from sklearn.feature_selection import SelectFromModel\n",
    "\n",
    "X, y = df_new.drop(['outcome'], axis=1), df_new['outcome']\n",
    "\n",
    "# Train an Elastic Net regression model\n",
    "clf = ElasticNet(alpha=4e-3, l1_ratio=0.5)\n",
    "clf.fit(X, y)\n",
    "\n",
    "# Use SelectFromModel with Elastic Net\n",
    "selector = SelectFromModel(clf, prefit=True)\n",
    "\n",
    "# Print the selected feature indices\n",
    "selected_features = selector.get_support(indices=True)\n",
    "print(\"Selected features (refer to the corresponding indices in Table the report for the feature names): \", selected_features)\n",
    "\n",
    "X_selected = selector.transform(X)\n",
    "X_selected.shape\n"
   ]
  },
  {
   "attachments": {},
   "cell_type": "markdown",
   "metadata": {},
   "source": [
    "### Implement predictive models using the selected features"
   ]
  },
  {
   "cell_type": "code",
   "execution_count": 9,
   "metadata": {},
   "outputs": [],
   "source": [
    "# Split the data into training and test sets\n",
    "from sklearn.model_selection import train_test_split\n",
    "X_train, X_test, y_train, y_test = train_test_split(X_selected, y, test_size=0.2, random_state=42)\n"
   ]
  },
  {
   "cell_type": "code",
   "execution_count": 10,
   "metadata": {},
   "outputs": [],
   "source": [
    "# Import the necessary libraries\n",
    "from sklearn.metrics import accuracy_score, confusion_matrix, classification_report\n",
    "from sklearn.metrics import roc_auc_score\n",
    "from sklearn.metrics import roc_curve\n",
    "from sklearn.metrics import precision_recall_curve\n",
    "from sklearn.metrics import precision_score, recall_score, f1_score\n",
    "\n",
    "from sklearn.linear_model import LogisticRegression\n",
    "from sklearn.tree import DecisionTreeClassifier\n",
    "from sklearn.ensemble import RandomForestClassifier\n",
    "from sklearn.ensemble import GradientBoostingClassifier\n",
    "from sklearn.ensemble import AdaBoostClassifier\n",
    "from sklearn.svm import SVC\n",
    "\n",
    "from sklearn.model_selection import GridSearchCV\n",
    "import seaborn as sns\n",
    "import matplotlib.pyplot as plt\n"
   ]
  },
  {
   "attachments": {},
   "cell_type": "markdown",
   "metadata": {},
   "source": [
    "### Logistic Regression"
   ]
  },
  {
   "cell_type": "code",
   "execution_count": 24,
   "metadata": {},
   "outputs": [
    {
     "name": "stdout",
     "output_type": "stream",
     "text": [
      "Accuracy:  0.7518638715902114\n",
      "Confusion matrix:  [[3904 1428]\n",
      " [1401 4668]]\n"
     ]
    },
    {
     "data": {
      "image/png": "[encoded data removed]",
      "text/plain": [
       "<Figure size 640x480 with 2 Axes>"
      ]
     },
     "metadata": {},
     "output_type": "display_data"
    },
    {
     "name": "stdout",
     "output_type": "stream",
     "text": [
      "Precision score:  0.765748031496063\n",
      "Recall score:  0.7691547207118141\n",
      "F1 score:  0.7674475955610357\n",
      "AUROC score:  0.7506688832366273\n"
     ]
    }
   ],
   "source": [
    "# Implement a baseline logistic regression model using all the features\n",
    "lr = LogisticRegression(max_iter=150)\n",
    "lr.fit(X_base_train, y_base_train)\n",
    "\n",
    "# Predict the outcome using the test set\n",
    "y_base_pred = lr.predict(X_base_test)\n",
    "\n",
    "# Print the accuracy, precision, recall and F1 scores\n",
    "print(\"Accuracy: \", accuracy_score(y_base_test, y_base_pred))\n",
    "print('Precision score: ', precision_score(y_base_test, y_base_pred))\n",
    "print('Recall score: ', recall_score(y_base_test, y_base_pred))\n",
    "print('F1 score: ', f1_score(y_base_test, y_base_pred))\n",
    "\n",
    "# Print and plot the confusion matrix\n",
    "print('Confusion matrix: ', confusion_matrix(y_base_test, y_base_pred))\n",
    "sns.heatmap(confusion_matrix(y_base_test, y_base_pred), annot=True, fmt='d')\n",
    "plt.show()\n",
    "\n",
    "# Print the AUROC score\n",
    "print('AUROC score: ', roc_auc_score(y_base_test, y_base_pred))"
   ]
  },
  {
   "cell_type": "code",
   "execution_count": 25,
   "metadata": {},
   "outputs": [
    {
     "name": "stdout",
     "output_type": "stream",
     "text": [
      "Accuracy:  0.7458117708972897\n",
      "Confusion matrix:  [[3870 1462]\n",
      " [1436 4633]]\n"
     ]
    },
    {
     "data": {
      "image/png": "[encoded data removed]",
      "text/plain": [
       "<Figure size 640x480 with 2 Axes>"
      ]
     },
     "metadata": {},
     "output_type": "display_data"
    },
    {
     "name": "stdout",
     "output_type": "stream",
     "text": [
      "Precision score:  0.7601312551271534\n",
      "Recall score:  0.7633877080243863\n",
      "F1 score:  0.7617560013153568\n",
      "AUROC score:  0.7445970798186448\n"
     ]
    }
   ],
   "source": [
    "# Implement a logistic regression model using the selected features\n",
    "lr = LogisticRegression(max_iter=150)\n",
    "lr.fit(X_train, y_train)\n",
    "\n",
    "# Predict the outcome for the test set\n",
    "y_pred = lr.predict(X_test)\n",
    "\n",
    "# Print the accuracy, precision, recall and F1 scores\n",
    "print(\"Accuracy: \", accuracy_score(y_test, y_pred))\n",
    "print('Precision score: ', precision_score(y_test, y_pred))\n",
    "print('Recall score: ', recall_score(y_test, y_pred))\n",
    "print('F1 score: ', f1_score(y_test, y_pred))\n",
    "\n",
    "# Print and plot the confusion matrix\n",
    "print('Confusion matrix: ', confusion_matrix(y_test, y_pred))\n",
    "sns.heatmap(confusion_matrix(y_test, y_pred), annot=True, fmt='d')\n",
    "plt.show()\n",
    "\n",
    "# Print the AUROC score\n",
    "print('AUROC score: ', roc_auc_score(y_test, y_pred))"
   ]
  },
  {
   "cell_type": "code",
   "execution_count": 26,
   "metadata": {},
   "outputs": [
    {
     "name": "stdout",
     "output_type": "stream",
     "text": [
      "Accuracy score:  0.7450223664590825\n",
      "Confusion matrix:  [[3864 1468]\n",
      " [1439 4630]]\n"
     ]
    },
    {
     "data": {
      "image/png": "[encoded data removed]",
      "text/plain": [
       "<Figure size 640x480 with 2 Axes>"
      ]
     },
     "metadata": {},
     "output_type": "display_data"
    },
    {
     "name": "stdout",
     "output_type": "stream",
     "text": [
      "Precision score:  0.7592653328960315\n",
      "Recall score:  0.7628933926511782\n",
      "F1 score:  0.7610750390400264\n",
      "AUROC score:  0.7437872814718756\n"
     ]
    }
   ],
   "source": [
    "# Train a logistic regression model with Elastic Net regularization\n",
    "logreg = LogisticRegression(penalty='elasticnet', solver='saga', l1_ratio=0.5, C=0.1, max_iter=1000)\n",
    "logreg.fit(X_train, y_train)\n",
    "\n",
    "# Predict the outcome of the test set\n",
    "y_pred = logreg.predict(X_test)\n",
    "\n",
    "# Print the accuracy, precision, recall and F1 scores\n",
    "print('Accuracy score: ', accuracy_score(y_test, y_pred))\n",
    "print('Precision score: ', precision_score(y_test, y_pred))\n",
    "print('Recall score: ', recall_score(y_test, y_pred))\n",
    "print('F1 score: ', f1_score(y_test, y_pred))\n",
    "\n",
    "# Print and plot the confusion matrix\n",
    "print('Confusion matrix: ', confusion_matrix(y_test, y_pred))\n",
    "sns.heatmap(confusion_matrix(y_test, y_pred), annot=True, fmt='d')\n",
    "plt.show()\n",
    "\n",
    "# Print the AUROC score\n",
    "print('AUROC score: ', roc_auc_score(y_test, y_pred))"
   ]
  },
  {
   "cell_type": "code",
   "execution_count": 36,
   "metadata": {},
   "outputs": [
    {
     "name": "stdout",
     "output_type": "stream",
     "text": [
      "Selecting features with genetic algorithm.\n",
      "gen\tnevals\tavg                            \tstd                            \tmin                            \tmax                            \n",
      "0  \t50    \t[ 0.581631  2.96      0.004813]\t[ 0.052657  1.248359  0.002243]\t[ 0.524189  1.        0.000054]\t[ 0.751425  5.        0.011393]\n",
      "1  \t29    \t[-2399.527703     3.82      2400.0036  ]\t[ 4271.096709     2.1697    4270.829278]\t[-10000.            1.            0.001799]\t[     0.752061      9.        10000.      ]\n",
      "2  \t22    \t[-999.390585    3.06     1000.00363 ]   \t[ 3000.203139     1.678213  2999.99879 ]\t[-10000.            1.            0.001465]\t[     0.752061      7.        10000.      ]\n",
      "3  \t29    \t[ 0.725779  2.06      0.004044]         \t[ 0.051629  1.066021  0.00151 ]         \t[ 0.552368  1.        0.001465]            \t[ 0.752061  5.        0.012048]            \n",
      "4  \t30    \t[ 0.750152  1.92      0.004145]         \t[ 0.003816  1.016661  0.000412]         \t[ 0.736338  1.        0.002925]            \t[ 0.752061  5.        0.005008]            \n",
      "5  \t31    \t[ 0.742691  2.        0.004044]         \t[ 0.043013  0.489898  0.000686]         \t[ 0.524189  1.        0.000054]            \t[ 0.752785  3.        0.005775]            \n",
      "6  \t23    \t[ 0.751071  2.36      0.00399 ]         \t[ 0.003497  0.741889  0.000304]         \t[ 0.737917  2.        0.002607]            \t[ 0.752785  5.        0.004516]            \n",
      "7  \t27    \t[-399.29085    2.68     400.00379]      \t[ 1959.736549     1.047664  1959.591021]\t[-10000.            1.            0.002694]\t[     0.752785      6.        10000.      ]\n",
      "8  \t35    \t[-599.2934      3.1       600.003495]   \t[ 2375.046937     0.943398  2374.867534]\t[-10000.            2.            0.002805]\t[     0.752785      6.        10000.      ]\n",
      "9  \t26    \t[ 0.752362  3.06      0.003558]         \t[ 0.002089  0.310483  0.000229]         \t[ 0.738531  2.        0.002339]            \t[ 0.752785  4.        0.0041  ]            \n",
      "10 \t33    \t[ 0.751654  3.2       0.003619]         \t[ 0.003404  0.489898  0.000257]         \t[ 0.737061  3.        0.00271 ]            \t[ 0.752785  5.        0.004592]            \n",
      "11 \t29    \t[-599.292798    3.32      600.003413]   \t[ 2375.047089     1.121428  2374.867555]\t[-10000.            2.            0.003551]\t[     0.752785      9.        10000.      ]\n",
      "12 \t21    \t[-399.278284    3.3       400.003417]   \t[ 1959.739114     0.781025  1959.591097]\t[-10000.            3.            0.002313]\t[     0.752785      6.        10000.      ]\n",
      "13 \t31    \t[-599.293582    3.44      600.003349]   \t[ 2375.046891     1.042305  2374.867571]\t[-10000.            3.            0.002365]\t[     0.752785      8.        10000.      ]\n",
      "14 \t28    \t[ 0.751752  3.14      0.003623]         \t[ 0.003206  0.447661  0.000141]         \t[ 0.737939  3.        0.003551]            \t[ 0.752785  5.        0.004254]            \n",
      "15 \t30    \t[ 0.751605  3.1       0.003648]         \t[ 0.003417  0.5       0.000211]         \t[ 0.738882  2.        0.002976]            \t[ 0.752785  5.        0.004289]            \n",
      "Features selected by GeneticSelectionCV:  Index(['dbp_min', 'hemoglobin_max', 'sofa_cns'], dtype='object')\n",
      "Accuracy score:  0.7518638715902114\n",
      "Confusion matrix:  [[3904 1428]\n",
      " [1401 4668]]\n"
     ]
    },
    {
     "name": "stderr",
     "output_type": "stream",
     "text": [
      "/home/haozhe/anaconda3/envs/sph6004/lib/python3.8/site-packages/sklearn/utils/metaestimators.py:121: FutureWarning: if_delegate_has_method was deprecated in version 1.1 and will be removed in version 1.3. Use available_if instead.\n",
      "  warnings.warn(\n",
      "/home/haozhe/anaconda3/envs/sph6004/lib/python3.8/site-packages/sklearn/base.py:413: UserWarning: X has feature names, but GeneticSelectionCV was fitted without feature names\n",
      "  warnings.warn(\n"
     ]
    },
    {
     "data": {
      "image/png": "[encoded data removed]",
      "text/plain": [
       "<Figure size 640x480 with 2 Axes>"
      ]
     },
     "metadata": {},
     "output_type": "display_data"
    },
    {
     "name": "stdout",
     "output_type": "stream",
     "text": [
      "Precision score:  0.8101041871436996\n",
      "Recall score:  0.6790245509968693\n",
      "F1 score:  0.7387952671208318\n",
      "AUROC score:  0.7506688832366273\n"
     ]
    }
   ],
   "source": [
    "# Train a logistic regression model with GeneticSelectionCV\n",
    "from genetic_selection import GeneticSelectionCV\n",
    "\n",
    "logreg = LogisticRegression(penalty='elasticnet', solver='saga', l1_ratio=0.5, C=0.1, max_iter=1000)\n",
    "selector = GeneticSelectionCV(logreg,\n",
    "                                cv=5,\n",
    "                                verbose=1,\n",
    "                                scoring=\"accuracy\",\n",
    "                                max_features=5,\n",
    "                                n_population=50,\n",
    "                                crossover_proba=0.5,\n",
    "                                mutation_proba=0.2,\n",
    "                                n_generations=40,\n",
    "                                crossover_independent_proba=0.5,\n",
    "                                mutation_independent_proba=0.05,\n",
    "                                tournament_size=3,\n",
    "                                n_gen_no_change=10,\n",
    "                                caching=True,\n",
    "                                n_jobs=-2)\n",
    "\n",
    "selectors = selector.fit(X_base_train, y_base_train)\n",
    "\n",
    "# Print the features names selected by GeneticSelectionCV\n",
    "print('Features selected by GeneticSelectionCV: ', X_base_train.columns[selectors.support_])\n",
    "\n",
    "# Predict the outcome of the test set\n",
    "y_pred = selector.predict(X_base_test)\n",
    "\n",
    "# Print the accuracy, precision, recall and F1 scores\n",
    "print('Accuracy score: ', accuracy_score(y_base_test, y_base_pred))\n",
    "print('Precision score: ', precision_score(y_test, y_pred))\n",
    "print('Recall score: ', recall_score(y_test, y_pred))\n",
    "print('F1 score: ', f1_score(y_test, y_pred))\n",
    "\n",
    "# Print and plot the confusion matrix\n",
    "print('Confusion matrix: ', confusion_matrix(y_base_test, y_base_pred))\n",
    "sns.heatmap(confusion_matrix(y_base_test, y_base_pred), annot=True, fmt='d')\n",
    "plt.show()\n",
    "\n",
    "# Print the AUROC score\n",
    "print('AUROC score: ', roc_auc_score(y_base_test, y_base_pred))\n"
   ]
  },
  {
   "attachments": {},
   "cell_type": "markdown",
   "metadata": {},
   "source": [
    "### Decision Tree Classifier"
   ]
  },
  {
   "cell_type": "code",
   "execution_count": 14,
   "metadata": {},
   "outputs": [
    {
     "name": "stdout",
     "output_type": "stream",
     "text": [
      "Accuracy score:  0.9436891500745549\n",
      "Confusion matrix:  [[5103  229]\n",
      " [ 413 5656]]\n"
     ]
    },
    {
     "data": {
      "image/png": "[encoded data removed]",
      "text/plain": [
       "<Figure size 640x480 with 2 Axes>"
      ]
     },
     "metadata": {},
     "output_type": "display_data"
    },
    {
     "name": "stdout",
     "output_type": "stream",
     "text": [
      "Precision score:  0.9610875106202209\n",
      "Recall score:  0.9319492502883506\n",
      "F1 score:  0.9462941274887066\n",
      "AUROC score:  0.9445005066145429\n"
     ]
    }
   ],
   "source": [
    "# Train a decision tree classifier using all 32 features\n",
    "\n",
    "dt = DecisionTreeClassifier(max_depth=10, random_state=42)\n",
    "dt.fit(X_base_train, y_base_train)\n",
    "\n",
    "# Predict the outcome of the test set\n",
    "y_base_pred = dt.predict(X_base_test)\n",
    "\n",
    "# Print the accuracy, precision, recall and F1 scores\n",
    "print('Accuracy score: ', accuracy_score(y_base_test, y_base_pred))\n",
    "print('Precision score: ', precision_score(y_base_test, y_base_pred))\n",
    "print('Recall score: ', recall_score(y_base_test, y_base_pred))\n",
    "print('F1 score: ', f1_score(y_base_test, y_base_pred))\n",
    "\n",
    "# Print and plot the confusion matrix\n",
    "print('Confusion matrix: ', confusion_matrix(y_base_test, y_base_pred))\n",
    "sns.heatmap(confusion_matrix(y_base_test, y_base_pred), annot=True, fmt='d')\n",
    "plt.show()\n",
    "\n",
    "# Print the AUROC score\n",
    "print('AUROC score: ', roc_auc_score(y_base_test, y_base_pred))"
   ]
  },
  {
   "cell_type": "code",
   "execution_count": 19,
   "metadata": {},
   "outputs": [
    {
     "name": "stdout",
     "output_type": "stream",
     "text": [
      "Accuracy score:  0.9351811244627665\n",
      "Confusion matrix:  [[4939  393]\n",
      " [ 346 5723]]\n"
     ]
    },
    {
     "data": {
      "image/png": "[encoded data removed]",
      "text/plain": [
       "<Figure size 640x480 with 2 Axes>"
      ]
     },
     "metadata": {},
     "output_type": "display_data"
    },
    {
     "name": "stdout",
     "output_type": "stream",
     "text": [
      "Precision score:  0.9357423152387181\n",
      "Recall score:  0.9429889602899983\n",
      "F1 score:  0.9393516618793599\n",
      "AUROC score:  0.934641516904189\n"
     ]
    }
   ],
   "source": [
    "# Train a decision tree classifier using the features selected by Elastic Net\n",
    "dt = DecisionTreeClassifier(max_depth=20, random_state=42)\n",
    "dt.fit(X_train, y_train)\n",
    "\n",
    "# Predict the outcome of the test set\n",
    "y_pred = dt.predict(X_test)\n",
    "\n",
    "# Print the accuracy, precision, recall and F1 scores\n",
    "print('Accuracy score: ', accuracy_score(y_test, y_pred))\n",
    "print('Precision score: ', precision_score(y_test, y_pred))\n",
    "print('Recall score: ', recall_score(y_test, y_pred))\n",
    "print('F1 score: ', f1_score(y_test, y_pred))\n",
    "\n",
    "# Print and plot the confusion matrix\n",
    "print('Confusion matrix: ', confusion_matrix(y_test, y_pred))\n",
    "sns.heatmap(confusion_matrix(y_test, y_pred), annot=True, fmt='d')\n",
    "plt.show()\n",
    "\n",
    "# Print the AUROC score\n",
    "print('AUROC score: ', roc_auc_score(y_test, y_pred))"
   ]
  },
  {
   "cell_type": "code",
   "execution_count": 58,
   "metadata": {},
   "outputs": [
    {
     "name": "stdout",
     "output_type": "stream",
     "text": [
      "Selecting features with genetic algorithm.\n",
      "gen\tnevals\tavg                            \tstd                            \tmin                            \tmax                            \n",
      "0  \t50    \t[ 0.7604    2.7       0.008046]\t[ 0.110835  1.526434  0.01066 ]\t[ 0.547566  1.        0.000884]\t[ 0.936776  5.        0.051659]\n",
      "1  \t32    \t[-1599.297044     3.82      1600.004355]\t[ 3666.367352     1.935872  3666.058655]\t[-10000.           0.           0.00084]\t[     0.936776     10.        10000.      ]\n",
      "2  \t25    \t[-999.209385    4.12     1000.003212]   \t[ 3000.263539     1.423236  2999.998929]\t[-10000.           1.           0.00084]\t[     0.950482      8.        10000.      ]\n",
      "3  \t33    \t[-1599.225422     4.44      1600.00198 ]\t[ 3666.398609     1.298615  3666.059692]\t[-10000.            2.            0.000717]\t[     0.961184      8.        10000.      ]\n",
      "4  \t34    \t[-999.152049    4.22     1000.001791]   \t[ 3000.28265      1.171153  2999.999403]\t[-10000.            2.            0.000717]\t[     0.962588      8.        10000.      ]\n",
      "5  \t29    \t[-999.143504    4.34     1000.001679]   \t[ 3000.285499     1.210124  2999.99944 ]\t[-10000.            3.            0.000717]\t[     0.970943      8.        10000.      ]\n",
      "6  \t25    \t[-199.060207    3.98      200.001526]   \t[ 1400.134256     0.812158  1399.999782]\t[-10000.            3.            0.000599]\t[     0.970943      8.        10000.      ]\n",
      "7  \t25    \t[-399.073274    3.84      400.001471]   \t[ 1959.780961     0.731027  1959.591494]\t[-10000.            3.            0.000717]\t[     0.970943      6.        10000.      ]\n",
      "8  \t28    \t[-599.091887    3.72      600.001496]   \t[ 2375.097848     0.895321  2374.868039]\t[-10000.            2.            0.000772]\t[     0.970943      6.        10000.      ]\n",
      "9  \t25    \t[-599.088743    3.6       600.00147 ]   \t[ 2375.098642     0.824621  2374.868046]\t[-10000.            3.            0.001058]\t[     0.970943      6.        10000.      ]\n",
      "10 \t30    \t[-399.069708    3.88      400.001533]   \t[ 1959.781689     0.765245  1959.591481]\t[-10000.            3.            0.001482]\t[     0.970943      7.        10000.      ]\n",
      "11 \t22    \t[-599.087936    4.18      600.001486]   \t[ 2375.098846     0.622575  2374.868042]\t[-10000.            3.            0.000641]\t[     0.970943      7.        10000.      ]\n",
      "12 \t30    \t[-399.068989    4.18      400.001575]   \t[ 1959.781836     0.477074  1959.591473]\t[-10000.            4.            0.001459]\t[     0.970943      6.        10000.      ]\n",
      "13 \t26    \t[-599.088514    4.24      600.001537]   \t[ 2375.0987       0.618385  2374.868029]\t[-10000.            4.            0.001103]\t[     0.970943      7.        10000.      ]\n",
      "14 \t25    \t[-999.126821    4.28     1000.001444]   \t[ 3000.29106      0.775629  2999.999519]\t[-10000.          4.          0.0016]      \t[     0.970943      8.        10000.      ]\n",
      "15 \t30    \t[-599.087479    4.14      600.001504]   \t[ 2375.098962     0.490306  2374.868037]\t[-10000.          4.          0.0016]      \t[     0.970943      6.        10000.      ]\n",
      "Features selected by GeneticSelectionCV:  Index(['creatinine_max', 'sofa_cardiovascular', 'sofa_cns', 'sofa_renal'], dtype='object')\n",
      "Accuracy score:  0.9715814402245417\n",
      "Confusion matrix:  [[5291   41]\n",
      " [ 283 5786]]\n"
     ]
    },
    {
     "name": "stderr",
     "output_type": "stream",
     "text": [
      "/home/haozhe/anaconda3/envs/sph6004/lib/python3.8/site-packages/sklearn/utils/metaestimators.py:121: FutureWarning: if_delegate_has_method was deprecated in version 1.1 and will be removed in version 1.3. Use available_if instead.\n",
      "  warnings.warn(\n",
      "/home/haozhe/anaconda3/envs/sph6004/lib/python3.8/site-packages/sklearn/base.py:413: UserWarning: X has feature names, but GeneticSelectionCV was fitted without feature names\n",
      "  warnings.warn(\n"
     ]
    },
    {
     "data": {
      "image/png": "[encoded data removed]",
      "text/plain": [
       "<Figure size 640x480 with 2 Axes>"
      ]
     },
     "metadata": {},
     "output_type": "display_data"
    },
    {
     "name": "stdout",
     "output_type": "stream",
     "text": [
      "Precision score:  0.9929637892569075\n",
      "Recall score:  0.9533695831273686\n",
      "F1 score:  0.972763954270343\n",
      "AUROC score:  0.9728400803858898\n"
     ]
    }
   ],
   "source": [
    "# Train a decision tree classifier using GeneticSelectionCV\n",
    "from genetic_selection import GeneticSelectionCV\n",
    "\n",
    "dt = DecisionTreeClassifier(max_depth=20, random_state=42)\n",
    "selector = GeneticSelectionCV(dt,\n",
    "                              cv=5,\n",
    "                              verbose=1,\n",
    "                              scoring=\"accuracy\",\n",
    "                              max_features=5,\n",
    "                              n_population=50,\n",
    "                              crossover_proba=0.5,\n",
    "                              mutation_proba=0.2,\n",
    "                              n_generations=40,\n",
    "                              crossover_independent_proba=0.5,\n",
    "                              mutation_independent_proba=0.05,\n",
    "                              tournament_size=3,\n",
    "                              n_gen_no_change=10,\n",
    "                              caching=True,\n",
    "                              n_jobs=-2)\n",
    "\n",
    "selectors = selector.fit(X_base_train, y_base_train)\n",
    "\n",
    "# Print the features names selected by GeneticSelectionCV\n",
    "print('Features selected by GeneticSelectionCV: ', X_base_train.columns[selectors.support_])\n",
    "\n",
    "# Predict the outcome of the test set\n",
    "y_base_pred = selector.predict(X_base_test)\n",
    "\n",
    "# Print the accuracy, precision, recall and F1 scores\n",
    "print('Accuracy score: ', accuracy_score(y_base_test, y_base_pred))\n",
    "print('Precision score: ', precision_score(y_base_test, y_base_pred))\n",
    "print('Recall score: ', recall_score(y_base_test, y_base_pred))\n",
    "print('F1 score: ', f1_score(y_base_test, y_base_pred))\n",
    "\n",
    "# Print and plot the confusion matrix\n",
    "print('Confusion matrix: ', confusion_matrix(y_base_test, y_base_pred))\n",
    "sns.heatmap(confusion_matrix(y_base_test, y_base_pred), annot=True, fmt='d')\n",
    "plt.show()\n",
    "\n",
    "# Print the AUROC score\n",
    "print('AUROC score: ', roc_auc_score(y_base_test, y_base_pred))\n"
   ]
  },
  {
   "attachments": {},
   "cell_type": "markdown",
   "metadata": {},
   "source": [
    "### Random Forest Classifier"
   ]
  },
  {
   "cell_type": "code",
   "execution_count": 23,
   "metadata": {},
   "outputs": [
    {
     "name": "stdout",
     "output_type": "stream",
     "text": [
      "Accuracy score:  0.9733356723094465\n",
      "Confusion matrix:  [[5185  147]\n",
      " [ 157 5912]]\n"
     ]
    },
    {
     "data": {
      "image/png": "[encoded data removed]",
      "text/plain": [
       "<Figure size 640x480 with 2 Axes>"
      ]
     },
     "metadata": {},
     "output_type": "display_data"
    },
    {
     "name": "stdout",
     "output_type": "stream",
     "text": [
      "Precision score:  0.9757385707212411\n",
      "Recall score:  0.9741308288021091\n",
      "F1 score:  0.974934036939314\n",
      "AUROC score:  0.9732807182270111\n"
     ]
    }
   ],
   "source": [
    "# Train a random forest classifier using all 32 features\n",
    "rf = RandomForestClassifier(n_estimators=15, max_depth=20, random_state=42)\n",
    "rf.fit(X_base_train, y_base_train)\n",
    "\n",
    "# Predict the outcome of the test set\n",
    "y_base_pred = rf.predict(X_base_test)\n",
    "\n",
    "# Print the accuracy, precision, recall and F1 scores\n",
    "print('Accuracy score: ', accuracy_score(y_base_test, y_base_pred))\n",
    "print('Precision score: ', precision_score(y_base_test, y_base_pred))\n",
    "print('Recall score: ', recall_score(y_base_test, y_base_pred))\n",
    "print('F1 score: ', f1_score(y_base_test, y_base_pred))\n",
    "\n",
    "# Print and plot the confusion matrix\n",
    "print('Confusion matrix: ', confusion_matrix(y_base_test, y_base_pred))\n",
    "sns.heatmap(confusion_matrix(y_base_test, y_base_pred), annot=True, fmt='d')\n",
    "plt.show()\n",
    "\n",
    "# Print the AUROC score\n",
    "print('AUROC score: ', roc_auc_score(y_base_test, y_base_pred))"
   ]
  },
  {
   "cell_type": "code",
   "execution_count": 28,
   "metadata": {},
   "outputs": [
    {
     "name": "stdout",
     "output_type": "stream",
     "text": [
      "Accuracy score:  0.9533374265415314\n",
      "Confusion matrix:  [[5099  233]\n",
      " [ 299 5770]]\n"
     ]
    },
    {
     "data": {
      "image/png": "[encoded data removed]",
      "text/plain": [
       "<Figure size 640x480 with 2 Axes>"
      ]
     },
     "metadata": {},
     "output_type": "display_data"
    },
    {
     "name": "stdout",
     "output_type": "stream",
     "text": [
      "Precision score:  0.9611860736298518\n",
      "Recall score:  0.9507332344702587\n",
      "F1 score:  0.9559310801855533\n",
      "AUROC score:  0.9535174049320536\n"
     ]
    }
   ],
   "source": [
    "# Train a random forest classifier using the features selected by Elastic Net\n",
    "rf = RandomForestClassifier(n_estimators=15, max_depth=20, random_state=42)\n",
    "rf.fit(X_train, y_train)\n",
    "\n",
    "# Predict the outcome of the test set\n",
    "y_pred = rf.predict(X_test)\n",
    "\n",
    "# Print the accuracy, precision, recall and F1 scores\n",
    "print('Accuracy score: ', accuracy_score(y_test, y_pred))\n",
    "print('Precision score: ', precision_score(y_test, y_pred))\n",
    "print('Recall score: ', recall_score(y_test, y_pred))\n",
    "print('F1 score: ', f1_score(y_test, y_pred))\n",
    "\n",
    "# Print and plot the confusion matrix\n",
    "print('Confusion matrix: ', confusion_matrix(y_test, y_pred))\n",
    "sns.heatmap(confusion_matrix(y_test, y_pred), annot=True, fmt='d')\n",
    "plt.show()\n",
    "\n",
    "# Print the AUROC score\n",
    "print('AUROC score: ', roc_auc_score(y_test, y_pred))\n"
   ]
  },
  {
   "cell_type": "code",
   "execution_count": 32,
   "metadata": {},
   "outputs": [
    {
     "name": "stdout",
     "output_type": "stream",
     "text": [
      "Selecting features with genetic algorithm.\n",
      "gen\tnevals\tavg                            \tstd                            \tmin                            \tmax                            \n",
      "0  \t50    \t[ 0.821958  3.08      0.00756 ]\t[ 0.084451  1.411949  0.007052]\t[ 0.594781  1.        0.001275]\t[ 0.950987  5.        0.036629]\n",
      "1  \t21    \t[-399.134389    3.88      400.004491]\t[ 1959.768487     1.21062   1959.590878]\t[-10000.            1.            0.001275]\t[     0.956974      6.        10000.      ]\n",
      "2  \t37    \t[-1999.2659       4.12      2000.003255]\t[ 4000.36705      1.595494  3999.998373]\t[-10000.            2.            0.000853]\t[     0.965636      7.        10000.      ]\n",
      "3  \t20    \t[-799.146405    3.94      800.00282 ]   \t[ 2713.183705     1.255548  2712.931162]\t[-10000.            2.            0.000642]\t[     0.965636      7.        10000.      ]\n",
      "4  \t29    \t[-399.087651    3.82      400.00184 ]   \t[ 1959.778027     1.194822  1959.591419]\t[-10000.            2.            0.000642]\t[     0.967061      7.        10000.      ]\n",
      "5  \t35    \t[-1199.156524     4.26      1200.00137 ]\t[ 3249.926836     1.439583  3249.614856]\t[-10000.            2.            0.000583]\t[     0.970943      9.        10000.      ]\n",
      "6  \t35    \t[-2599.287195     4.86      2600.00107 ]\t[ 4386.764954     1.31164   4386.341806]\t[-10000.            3.            0.000642]\t[     0.972829      9.        10000.      ]\n",
      "7  \t27    \t[-999.130704    4.58     1000.001332]   \t[ 3000.289765     0.961041  2999.999556]\t[-10000.            2.            0.000683]\t[     0.972829      6.        10000.      ]\n",
      "8  \t27    \t[-1399.166225     4.9       1400.001199]\t[ 3470.20672      0.921954  3469.869831]\t[-10000.            3.            0.000712]\t[     0.972829      8.        10000.      ]\n",
      "9  \t28    \t[-1199.145602     4.86      1200.001209]\t[ 3249.930869     0.872009  3249.614915]\t[-10000.            3.            0.000957]\t[     0.972829      8.        10000.      ]\n",
      "10 \t32    \t[-799.105768    4.52      800.001388]   \t[ 2713.195688     0.780769  2712.931584]\t[-10000.            4.            0.001091]\t[     0.972829      8.        10000.      ]\n",
      "11 \t26    \t[-199.047228    4.16      200.001521]   \t[ 1400.13611      0.417612  1399.999783]\t[-10000.           4.           0.00089]   \t[     0.972829      6.        10000.      ]\n",
      "12 \t29    \t[-1199.144554     4.28      1200.001387]\t[ 3249.931256     0.722219  3249.61485 ]\t[-10000.            4.            0.001161]\t[     0.972829      7.        10000.      ]\n",
      "13 \t34    \t[-1199.14423      4.36      1200.001377]\t[ 3249.931376     0.866256  3249.614853]\t[-10000.            4.            0.001434]\t[     0.972829      8.        10000.      ]\n",
      "14 \t22    \t[-599.086114    4.2       600.001475]   \t[ 2375.099307     0.52915   2374.868045]\t[-10000.            4.            0.001134]\t[     0.974035      6.        10000.      ]\n",
      "15 \t35    \t[-199.047297    4.16      200.001545]   \t[ 1400.1361       0.417612  1399.999779]\t[-10000.            4.            0.001243]\t[     0.974276      6.        10000.      ]\n",
      "16 \t26    \t[-599.086093    4.36      600.001411]   \t[ 2375.099312     0.842852  2374.868061]\t[-10000.            4.            0.000922]\t[     0.974276      9.        10000.      ]\n",
      "17 \t27    \t[-999.124246    4.68     1000.001308]   \t[ 3000.291918     0.76      2999.999564]\t[-10000.            4.            0.001134]\t[     0.974276      7.        10000.      ]\n",
      "18 \t27    \t[-999.123906    5.       1000.001243]   \t[ 3000.292031     0.69282   2999.999586]\t[-10000.            4.            0.001145]\t[     0.974276      8.        10000.      ]\n",
      "19 \t33    \t[-1399.162521     5.16      1400.001187]\t[ 3470.208215     0.674092  3469.869836]\t[-10000.            4.            0.000761]\t[     0.974276      8.        10000.      ]\n",
      "20 \t21    \t[-599.084613    5.04      600.00136 ]   \t[ 2375.099686     0.527636  2374.868074]\t[-10000.            4.            0.001251]\t[     0.974276      8.        10000.      ]\n",
      "21 \t27    \t[-1599.181613     5.3       1600.001205]\t[ 3666.417729     0.781025  3666.06003 ]\t[-10000.            5.            0.001251]\t[     0.974276      8.        10000.      ]\n",
      "22 \t25    \t[-1199.142637     5.24      1200.001266]\t[ 3249.931964     0.736478  3249.614894]\t[-10000.            5.            0.001439]\t[     0.974276      8.        10000.      ]\n",
      "23 \t35    \t[-399.064695    5.06      400.001381]   \t[ 1959.782713     0.310483  1959.591512]\t[-10000.            5.            0.001439]\t[     0.974276      7.        10000.      ]\n",
      "24 \t35    \t[-1999.220796     5.28      2000.001143]\t[ 4000.389602     0.775629  3999.999428]\t[-10000.            4.            0.000761]\t[     0.974276      8.        10000.      ]\n",
      "25 \t40    \t[-1799.201361     5.28      1800.001193]\t[ 3842.248722     0.84947   3841.873984]\t[-10000.            4.            0.001356]\t[     0.974276      9.        10000.      ]\n",
      "Features selected by GeneticSelectionCV:  Index(['creatinine_min', 'sofa_coagulation', 'sofa_cardiovascular', 'sofa_cns',\n",
      "       'sofa_renal'],\n",
      "      dtype='object')\n",
      "Accuracy score:  0.9740373651434084\n",
      "Confusion matrix:  [[5280   52]\n",
      " [ 244 5825]]\n"
     ]
    },
    {
     "name": "stderr",
     "output_type": "stream",
     "text": [
      "/home/haozhe/anaconda3/envs/sph6004/lib/python3.8/site-packages/sklearn/utils/metaestimators.py:121: FutureWarning: if_delegate_has_method was deprecated in version 1.1 and will be removed in version 1.3. Use available_if instead.\n",
      "  warnings.warn(\n",
      "/home/haozhe/anaconda3/envs/sph6004/lib/python3.8/site-packages/sklearn/base.py:413: UserWarning: X has feature names, but GeneticSelectionCV was fitted without feature names\n",
      "  warnings.warn(\n"
     ]
    },
    {
     "data": {
      "image/png": "[encoded data removed]",
      "text/plain": [
       "<Figure size 640x480 with 2 Axes>"
      ]
     },
     "metadata": {},
     "output_type": "display_data"
    },
    {
     "name": "stdout",
     "output_type": "stream",
     "text": [
      "Precision score:  0.9911519482729284\n",
      "Recall score:  0.959795682979074\n",
      "F1 score:  0.9752218315754229\n",
      "AUROC score:  0.9750216224347732\n"
     ]
    }
   ],
   "source": [
    "# Train a random forest classifier using GeneticSelectionCV\n",
    "from genetic_selection import GeneticSelectionCV\n",
    "\n",
    "rf = RandomForestClassifier(n_estimators=15, max_depth=20, random_state=42)\n",
    "selector = GeneticSelectionCV(rf,\n",
    "                              cv=5,\n",
    "                              verbose=1,\n",
    "                              scoring=\"accuracy\",\n",
    "                              max_features=5,\n",
    "                              n_population=50,\n",
    "                              crossover_proba=0.5,\n",
    "                              mutation_proba=0.2,\n",
    "                              n_generations=40,\n",
    "                              crossover_independent_proba=0.5,\n",
    "                              mutation_independent_proba=0.05,\n",
    "                              tournament_size=3,\n",
    "                              n_gen_no_change=10,\n",
    "                              caching=True,\n",
    "                              n_jobs=-2)\n",
    "\n",
    "selectors = selector.fit(X_base_train, y_base_train)\n",
    "\n",
    "# Print the features names selected by GeneticSelectionCV\n",
    "print('Features selected by GeneticSelectionCV: ', X_base_train.columns[selectors.support_])\n",
    "\n",
    "# Predict the outcome of the test set\n",
    "y_base_pred = selector.predict(X_base_test)\n",
    "\n",
    "# Print the accuracy, precision, recall and F1 scores\n",
    "print('Accuracy score: ', accuracy_score(y_base_test, y_base_pred))\n",
    "print('Precision score: ', precision_score(y_base_test, y_base_pred))\n",
    "print('Recall score: ', recall_score(y_base_test, y_base_pred))\n",
    "print('F1 score: ', f1_score(y_base_test, y_base_pred))\n",
    "\n",
    "# Print and plot the confusion matrix\n",
    "print('Confusion matrix: ', confusion_matrix(y_base_test, y_base_pred))\n",
    "sns.heatmap(confusion_matrix(y_base_test, y_base_pred), annot=True, fmt='d')\n",
    "plt.show()\n",
    "\n",
    "# Print the AUROC score\n",
    "print('AUROC score: ', roc_auc_score(y_base_test, y_base_pred))\n"
   ]
  },
  {
   "attachments": {},
   "cell_type": "markdown",
   "metadata": {},
   "source": [
    "### Gradient Boosting Classifier"
   ]
  },
  {
   "cell_type": "code",
   "execution_count": 36,
   "metadata": {},
   "outputs": [
    {
     "name": "stdout",
     "output_type": "stream",
     "text": [
      "Accuracy score:  0.9590386808174721\n",
      "Confusion matrix:  [[5084  248]\n",
      " [ 219 5850]]\n"
     ]
    },
    {
     "data": {
      "image/png": "[encoded data removed]",
      "text/plain": [
       "<Figure size 640x480 with 2 Axes>"
      ]
     },
     "metadata": {},
     "output_type": "display_data"
    },
    {
     "name": "stdout",
     "output_type": "stream",
     "text": [
      "Precision score:  0.9593309281731716\n",
      "Recall score:  0.9639149777558083\n",
      "F1 score:  0.9616174899317826\n",
      "AUROC score:  0.9587016749244158\n"
     ]
    }
   ],
   "source": [
    "# Train a gradient boosting classifier using all 32 features\n",
    "gb = GradientBoostingClassifier(n_estimators=15, max_depth=20, random_state=42)\n",
    "gb.fit(X_base_train, y_base_train)\n",
    "\n",
    "# Predict the outcome of the test set\n",
    "y_base_pred = gb.predict(X_base_test)\n",
    "\n",
    "# Print the accuracy, precision, recall and F1 scores\n",
    "print('Accuracy score: ', accuracy_score(y_base_test, y_base_pred))\n",
    "print('Precision score: ', precision_score(y_base_test, y_base_pred))\n",
    "print('Recall score: ', recall_score(y_base_test, y_base_pred))\n",
    "print('F1 score: ', f1_score(y_base_test, y_base_pred))\n",
    "\n",
    "\n",
    "# Print and plot the confusion matrix\n",
    "print('Confusion matrix: ', confusion_matrix(y_base_test, y_base_pred))\n",
    "sns.heatmap(confusion_matrix(y_base_test, y_base_pred), annot=True, fmt='d')\n",
    "plt.show()\n",
    "\n",
    "# Print the AUROC score\n",
    "print('AUROC score: ', roc_auc_score(y_base_test, y_base_pred))"
   ]
  },
  {
   "cell_type": "code",
   "execution_count": 40,
   "metadata": {},
   "outputs": [
    {
     "name": "stdout",
     "output_type": "stream",
     "text": [
      "Accuracy score:  0.9427243224278572\n",
      "Confusion matrix:  [[4970  362]\n",
      " [ 291 5778]]\n"
     ]
    },
    {
     "data": {
      "image/png": "[encoded data removed]",
      "text/plain": [
       "<Figure size 640x480 with 2 Axes>"
      ]
     },
     "metadata": {},
     "output_type": "display_data"
    },
    {
     "name": "stdout",
     "output_type": "stream",
     "text": [
      "Classification report:                precision    recall  f1-score   support\n",
      "\n",
      "       False       0.94      0.93      0.94      5332\n",
      "        True       0.94      0.95      0.95      6069\n",
      "\n",
      "    accuracy                           0.94     11401\n",
      "   macro avg       0.94      0.94      0.94     11401\n",
      "weighted avg       0.94      0.94      0.94     11401\n",
      "\n",
      "Precision score:  0.9410423452768729\n",
      "Recall score:  0.9520514087988137\n",
      "F1 score:  0.9465148660823982\n",
      "AUROC score:  0.9420797179027827\n"
     ]
    }
   ],
   "source": [
    "# Train a gradient boosting classifier using the features selected by Elastic Net\n",
    "gb = GradientBoostingClassifier(n_estimators=15, max_depth=20, random_state=42)\n",
    "gb.fit(X_train, y_train)\n",
    "\n",
    "# Predict the outcome of the test set\n",
    "y_pred = gb.predict(X_test)\n",
    "\n",
    "# Print the accuracy, precision, recall and F1 scores\n",
    "print('Accuracy score: ', accuracy_score(y_test, y_pred))\n",
    "print('Precision score: ', precision_score(y_test, y_pred))\n",
    "print('Recall score: ', recall_score(y_test, y_pred))\n",
    "print('F1 score: ', f1_score(y_test, y_pred))\n",
    "\n",
    "# Print and plot the confusion matrix\n",
    "print('Confusion matrix: ', confusion_matrix(y_test, y_pred))\n",
    "sns.heatmap(confusion_matrix(y_test, y_pred), annot=True, fmt='d')\n",
    "plt.show()\n",
    "\n",
    "# Print the AUROC score\n",
    "print('AUROC score: ', roc_auc_score(y_test, y_pred))"
   ]
  },
  {
   "cell_type": "code",
   "execution_count": 43,
   "metadata": {},
   "outputs": [
    {
     "name": "stdout",
     "output_type": "stream",
     "text": [
      "Selecting features with genetic algorithm.\n",
      "gen\tnevals\tavg                            \tstd                            \tmin                            \tmax                            \n",
      "0  \t50    \t[ 0.857015  2.72      0.008041]\t[ 0.101106  1.483779  0.006598]\t[ 0.556053  1.        0.001609]\t[ 0.950987  5.        0.027828]\n",
      "1  \t29    \t[-999.174254    3.88     1000.003652]\t[ 3000.275249     1.36587   2999.998783]\t[-10000.            1.            0.000922]\t[     0.958925      7.        10000.      ]\n",
      "2  \t38    \t[-1999.249921     4.14      2000.002772]\t[ 4000.37504      1.67344   3999.998614]\t[-10000.            2.            0.000774]\t[     0.964693     10.        10000.      ]\n",
      "3  \t26    \t[-599.112179    3.44      600.003283]   \t[ 2375.092722     1.32906   2374.867588]\t[-10000.            1.            0.000729]\t[     0.964693      7.        10000.      ]\n",
      "4  \t27    \t[-399.089865    3.12      400.002716]   \t[ 1959.777575     1.088853  1959.59124 ]\t[-10000.            1.            0.000632]\t[     0.964693      6.        10000.      ]\n",
      "5  \t25    \t[-399.08353     3.        400.002278]   \t[ 1959.778868     1.03923   1959.591329]\t[-10000.            2.            0.000632]\t[     0.965833      6.        10000.      ]\n",
      "6  \t34    \t[-399.088307    2.76      400.002063]   \t[ 1959.777893     1.241934  1959.591373]\t[-10000.            1.            0.000822]\t[     0.965833      7.        10000.      ]\n",
      "7  \t26    \t[-399.084493    2.64      400.002064]   \t[ 1959.778671     1.276871  1959.591373]\t[-10000.            1.            0.001025]\t[     0.965833      7.        10000.      ]\n",
      "8  \t24    \t[ 0.959585  2.42      0.001932]         \t[ 0.014342  0.850647  0.000905]         \t[ 0.881338  1.        0.001025]            \t[ 0.965833  5.        0.003989]            \n",
      "9  \t29    \t[ 0.95803   2.36      0.001823]         \t[ 0.02111   0.685857  0.000989]         \t[ 0.848816  2.        0.001047]            \t[ 0.967873  5.        0.006186]            \n",
      "10 \t26    \t[ 0.96465   2.26      0.001426]         \t[ 0.004546  0.52192   0.000458]         \t[ 0.946776  2.        0.001047]            \t[ 0.967873  4.        0.003691]            \n",
      "11 \t34    \t[-199.055585    2.74      200.001312]   \t[ 1400.134917     0.996193  1399.999813]\t[-10000.            2.            0.001047]\t[     0.967873      7.        10000.      ]\n",
      "12 \t22    \t[-199.052581    2.86      200.001177]   \t[ 1400.135346     0.774855  1399.999832]\t[-10000.            2.            0.001047]\t[     0.967873      6.        10000.      ]\n",
      "13 \t28    \t[-399.072873    3.22      400.001126]   \t[ 1959.781043     0.831625  1959.591564]\t[-10000.            2.            0.000579]\t[     0.967873      6.        10000.      ]\n",
      "14 \t26    \t[ 0.965334  3.3       0.001156]         \t[ 0.005823  0.67082   0.000375]         \t[ 0.947193  3.        0.000648]            \t[ 0.967873  5.        0.002783]            \n",
      "15 \t30    \t[-399.072311    3.28      400.001126]   \t[ 1959.781158     0.872697  1959.591564]\t[-10000.            3.            0.001047]\t[     0.967873      7.        10000.      ]\n",
      "16 \t24    \t[-399.072131    3.26      400.001045]   \t[ 1959.781195     0.795236  1959.591581]\t[-10000.            3.            0.000996]\t[     0.967873      7.        10000.      ]\n",
      "17 \t26    \t[-199.055557    3.28      200.001155]   \t[ 1400.13492      0.7494    1399.999835]\t[-10000.            2.            0.001047]\t[     0.967873      6.        10000.      ]\n",
      "18 \t32    \t[-599.094286    3.36      600.001203]   \t[ 2375.097242     0.889044  2374.868113]\t[-10000.            2.            0.001047]\t[     0.967873      6.        10000.      ]\n",
      "19 \t37    \t[-199.053017    3.18      200.00106 ]   \t[ 1400.135283     0.554617  1399.999849]\t[-10000.            3.            0.001022]\t[     0.967873      6.        10000.      ]\n",
      "Features selected by GeneticSelectionCV:  Index(['temperature_min', 'sofa_coagulation', 'sofa_cns'], dtype='object')\n",
      "Accuracy score:  0.9675467064292606\n",
      "Confusion matrix:  [[5290   42]\n",
      " [ 328 5741]]\n"
     ]
    },
    {
     "name": "stderr",
     "output_type": "stream",
     "text": [
      "/home/haozhe/anaconda3/envs/sph6004/lib/python3.8/site-packages/sklearn/utils/metaestimators.py:121: FutureWarning: if_delegate_has_method was deprecated in version 1.1 and will be removed in version 1.3. Use available_if instead.\n",
      "  warnings.warn(\n",
      "/home/haozhe/anaconda3/envs/sph6004/lib/python3.8/site-packages/sklearn/base.py:413: UserWarning: X has feature names, but GeneticSelectionCV was fitted without feature names\n",
      "  warnings.warn(\n"
     ]
    },
    {
     "data": {
      "image/png": "[encoded data removed]",
      "text/plain": [
       "<Figure size 640x480 with 2 Axes>"
      ]
     },
     "metadata": {},
     "output_type": "display_data"
    },
    {
     "name": "stdout",
     "output_type": "stream",
     "text": [
      "Precision score:  0.9927373335638942\n",
      "Recall score:  0.945954852529247\n",
      "F1 score:  0.9687816402294972\n",
      "AUROC score:  0.9690389416434682\n"
     ]
    }
   ],
   "source": [
    "# Train a gradient boosting classifier using GeneticSelectionCV\n",
    "gb = GradientBoostingClassifier(n_estimators=15, max_depth=20, random_state=42)\n",
    "selector = GeneticSelectionCV(gb,\n",
    "                              cv=5,\n",
    "                              verbose=1,\n",
    "                              scoring=\"accuracy\",\n",
    "                              max_features=5,\n",
    "                              n_population=50,\n",
    "                              crossover_proba=0.5,\n",
    "                              mutation_proba=0.2,\n",
    "                              n_generations=40,\n",
    "                              crossover_independent_proba=0.5,\n",
    "                              mutation_independent_proba=0.05,\n",
    "                              tournament_size=3,\n",
    "                              n_gen_no_change=10,\n",
    "                              caching=True,\n",
    "                              n_jobs=-2)\n",
    "\n",
    "selectors = selector.fit(X_base_train, y_base_train)\n",
    "\n",
    "# Print the features names selected by GeneticSelectionCV\n",
    "print('Features selected by GeneticSelectionCV: ', X_base_train.columns[selectors.support_])\n",
    "\n",
    "# Predict the outcome of the test set\n",
    "y_base_pred = selector.predict(X_base_test)\n",
    "\n",
    "# Print the accuracy, precision, recall and F1 scores\n",
    "print('Accuracy score: ', accuracy_score(y_base_test, y_base_pred))\n",
    "print('Precision score: ', precision_score(y_base_test, y_base_pred))\n",
    "print('Recall score: ', recall_score(y_base_test, y_base_pred))\n",
    "print('F1 score: ', f1_score(y_base_test, y_base_pred))\n",
    "\n",
    "# Print and plot the confusion matrix\n",
    "print('Confusion matrix: ', confusion_matrix(y_base_test, y_base_pred))\n",
    "sns.heatmap(confusion_matrix(y_base_test, y_base_pred), annot=True, fmt='d')\n",
    "plt.show()\n",
    "\n",
    "# Print the AUROC score\n",
    "print('AUROC score: ', roc_auc_score(y_base_test, y_base_pred))"
   ]
  },
  {
   "attachments": {},
   "cell_type": "markdown",
   "metadata": {},
   "source": [
    "### Adaptive Boosting Classifier"
   ]
  },
  {
   "cell_type": "code",
   "execution_count": 46,
   "metadata": {},
   "outputs": [
    {
     "name": "stdout",
     "output_type": "stream",
     "text": [
      "Accuracy score:  0.8846592404175072\n",
      "Confusion matrix:  [[4623  709]\n",
      " [ 606 5463]]\n"
     ]
    },
    {
     "data": {
      "image/png": "[encoded data removed]",
      "text/plain": [
       "<Figure size 640x480 with 2 Axes>"
      ]
     },
     "metadata": {},
     "output_type": "display_data"
    },
    {
     "name": "stdout",
     "output_type": "stream",
     "text": [
      "Precision score:  0.8851263771872975\n",
      "Recall score:  0.9001482946119624\n",
      "F1 score:  0.8925741360999918\n",
      "AUROC score:  0.8835887759631454\n"
     ]
    }
   ],
   "source": [
    "# Train an adaptive boosting classifier using all 32 features\n",
    "ab = AdaBoostClassifier(n_estimators=15, random_state=42)\n",
    "ab.fit(X_base_train, y_base_train)\n",
    "\n",
    "# Predict the outcome of the test set\n",
    "y_base_pred = ab.predict(X_base_test)\n",
    "\n",
    "# Print the accuracy, precision, recall and F1 scores\n",
    "print('Accuracy score: ', accuracy_score(y_base_test, y_base_pred))\n",
    "print('Precision score: ', precision_score(y_base_test, y_base_pred))\n",
    "print('Recall score: ', recall_score(y_base_test, y_base_pred))\n",
    "print('F1 score: ', f1_score(y_base_test, y_base_pred))\n",
    "\n",
    "# Print and plot the confusion matrix\n",
    "print('Confusion matrix: ', confusion_matrix(y_base_test, y_base_pred))\n",
    "sns.heatmap(confusion_matrix(y_base_test, y_base_pred), annot=True, fmt='d')\n",
    "plt.show()\n",
    "\n",
    "# Print the AUROC score\n",
    "print('AUROC score: ', roc_auc_score(y_base_test, y_base_pred))"
   ]
  },
  {
   "cell_type": "code",
   "execution_count": 50,
   "metadata": {},
   "outputs": [
    {
     "name": "stdout",
     "output_type": "stream",
     "text": [
      "Accuracy score:  0.8593105867906324\n",
      "Confusion matrix:  [[4278 1054]\n",
      " [ 550 5519]]\n"
     ]
    },
    {
     "data": {
      "image/png": "[encoded data removed]",
      "text/plain": [
       "<Figure size 640x480 with 2 Axes>"
      ]
     },
     "metadata": {},
     "output_type": "display_data"
    },
    {
     "name": "stdout",
     "output_type": "stream",
     "text": [
      "Precision score:  0.8396470409249962\n",
      "Recall score:  0.9093755149118471\n",
      "F1 score:  0.8731213415598799\n",
      "AUROC score:  0.855850548153598\n"
     ]
    }
   ],
   "source": [
    "# Train an adaptive boosting classifier using the features selected by Elastic Net\n",
    "ab = AdaBoostClassifier(n_estimators=15, random_state=42)\n",
    "ab.fit(X_train, y_train)\n",
    "\n",
    "# Predict the outcome of the test set\n",
    "y_pred = ab.predict(X_test)\n",
    "\n",
    "# Print the accuracy, precision, recall and F1 scores\n",
    "print('Accuracy score: ', accuracy_score(y_test, y_pred))\n",
    "print('Precision score: ', precision_score(y_test, y_pred))\n",
    "print('Recall score: ', recall_score(y_test, y_pred))\n",
    "print('F1 score: ', f1_score(y_test, y_pred))\n",
    "\n",
    "# Print and plot the confusion matrix\n",
    "print('Confusion matrix: ', confusion_matrix(y_test, y_pred))\n",
    "sns.heatmap(confusion_matrix(y_test, y_pred), annot=True, fmt='d')\n",
    "plt.show()\n",
    "\n",
    "# Print the AUROC score\n",
    "print('AUROC score: ', roc_auc_score(y_test, y_pred))"
   ]
  },
  {
   "cell_type": "code",
   "execution_count": 53,
   "metadata": {},
   "outputs": [
    {
     "name": "stdout",
     "output_type": "stream",
     "text": [
      "Selecting features with genetic algorithm.\n",
      "gen\tnevals\tavg                            \tstd                            \tmin                            \tmax                            \n",
      "0  \t50    \t[ 0.682597  3.1       0.006762]\t[ 0.100493  1.360147  0.005264]\t[ 0.545241  1.        0.001405]\t[ 0.874232  5.        0.025823]\n",
      "1  \t31    \t[-1399.348522     4.14      1400.005251]\t[ 3470.13317      1.510099  3469.868196]\t[-10000.            1.            0.002137]\t[     0.874232      7.        10000.      ]\n",
      "2  \t24    \t[-599.225       4.28      600.004046]   \t[ 2375.064219     1.265543  2374.867395]\t[-10000.            1.            0.002138]\t[     0.885461      7.        10000.      ]\n",
      "3  \t27    \t[-1399.248762     4.58      1400.003576]\t[ 3470.173419     1.342982  3469.868872]\t[-10000.            2.            0.002176]\t[     0.885461      9.        10000.      ]\n",
      "4  \t27    \t[-1399.246493     4.58      1400.003928]\t[ 3470.174335     1.184736  3469.86873 ]\t[-10000.            2.            0.002176]\t[     0.885461      8.        10000.      ]\n",
      "5  \t32    \t[-1599.262705     4.32      1600.004675]\t[ 3666.382338     1.256025  3666.058516]\t[-10000.            2.            0.002176]\t[     0.885461      8.        10000.      ]\n",
      "6  \t22    \t[-199.132656    3.78      200.006655]   \t[ 1400.123906     0.831625  1399.999049]\t[-10000.            2.            0.002176]\t[     0.885461      6.        10000.      ]\n",
      "7  \t36    \t[-599.167887    3.58      600.006503]   \t[ 2375.078647     0.918477  2374.866774]\t[-10000.            3.            0.003869]\t[     0.890877      7.        10000.      ]\n",
      "8  \t25    \t[-399.149633    3.32      400.006424]   \t[ 1959.765375     0.76      1959.590483]\t[-10000.            3.            0.003869]\t[     0.890877      7.        10000.      ]\n",
      "9  \t32    \t[-599.167021    3.54      600.006022]   \t[ 2375.078866     0.899111  2374.866896]\t[-10000.            3.            0.003869]\t[     0.890877      7.        10000.      ]\n",
      "10 \t34    \t[-799.183514    3.9       800.004877]   \t[ 2713.172762     1.1       2712.930555]\t[-10000.            3.            0.002136]\t[     0.892719      7.        10000.      ]\n",
      "11 \t29    \t[-599.167029    4.18      600.004066]   \t[ 2375.078864     0.792212  2374.86739 ]\t[-10000.            3.            0.002136]\t[     0.892719      7.        10000.      ]\n",
      "12 \t22    \t[-599.162606    4.3       600.00354 ]   \t[ 2375.079981     0.806226  2374.867523]\t[-10000.            3.            0.002136]\t[     0.892719      8.        10000.      ]\n",
      "13 \t27    \t[-999.201043    4.62     1000.002787]   \t[ 3000.266319     0.845931  2999.999071]\t[-10000.            2.            0.002031]\t[     0.892719      7.        10000.      ]\n",
      "14 \t23    \t[-799.179288    4.86      800.00252 ]   \t[ 2713.174008     0.916733  2712.93125 ]\t[-10000.            4.            0.002136]\t[     0.892719     10.        10000.      ]\n",
      "15 \t28    \t[-1999.287069     5.26      2000.001898]\t[ 4000.356465     0.934024  3999.999051]\t[-10000.            4.            0.002136]\t[     0.892719      9.        10000.      ]\n",
      "16 \t28    \t[-1199.215541     5.06      1200.001965]\t[ 3249.905042     0.50636   3249.614636]\t[-10000.            4.            0.002136]\t[     0.892719      7.        10000.      ]\n",
      "17 \t21    \t[-1399.232298     5.1       1400.001872]\t[ 3470.180062     0.781025  3469.869559]\t[-10000.            4.            0.002136]\t[     0.892719      9.        10000.      ]\n",
      "18 \t29    \t[-1599.250116     4.86      1600.001794]\t[ 3666.387832     0.824864  3666.059773]\t[-10000.            4.            0.002136]\t[     0.892719      7.        10000.      ]\n",
      "19 \t31    \t[-799.178698    4.56      800.001965]   \t[ 2713.174182     0.752596  2712.931414]\t[-10000.            4.            0.002136]\t[     0.892719      7.        10000.      ]\n",
      "20 \t29    \t[-1599.250116     4.54      1600.001794]\t[ 3666.387832     0.921086  3666.059773]\t[-10000.            4.            0.002136]\t[     0.892719      8.        10000.      ]\n",
      "21 \t32    \t[-799.178833    4.34      800.002054]   \t[ 2713.174142     0.764461  2712.931388]\t[-10000.            4.            0.002136]\t[     0.892719      8.        10000.      ]\n",
      "22 \t36    \t[-599.16255     4.26      600.002055]   \t[ 2375.079995     0.626418  2374.867898]\t[-10000.            4.            0.002136]\t[     0.892719      7.        10000.      ]\n",
      "23 \t27    \t[-399.142989    4.16      400.00205 ]   \t[ 1959.766731     0.643739  1959.591376]\t[-10000.            4.            0.002136]\t[     0.892719      8.        10000.      ]\n",
      "24 \t39    \t[-399.144831    4.12      400.002186]   \t[ 1959.766355     0.515364  1959.591348]\t[-10000.            4.            0.002136]\t[     0.892719      7.        10000.      ]\n",
      "25 \t36    \t[-799.178648    4.26      800.001976]   \t[ 2713.174197     0.795236  2712.93141 ]\t[-10000.            4.            0.002136]\t[     0.895241      8.        10000.      ]\n",
      "26 \t28    \t[-199.128618    4.08      200.002247]   \t[ 1400.124483     0.44      1399.999679]\t[-10000.            3.            0.002136]\t[     0.895241      6.        10000.      ]\n",
      "27 \t28    \t[-399.14588     4.08      400.002269]   \t[ 1959.766141     0.56      1959.591331]\t[-10000.            3.            0.002136]\t[     0.895241      6.        10000.      ]\n",
      "28 \t35    \t[-399.146164    4.06      400.002576]   \t[ 1959.766083     0.881136  1959.591268]\t[-10000.            2.            0.002136]\t[     0.895241      8.        10000.      ]\n",
      "29 \t27    \t[-999.194604    4.04     1000.002402]   \t[ 3000.268465     1.264278  2999.999199]\t[-10000.            3.            0.002136]\t[     0.896031      8.        10000.      ]\n",
      "30 \t26    \t[-599.158541    3.56      600.002683]   \t[ 2375.081008     0.897998  2374.86774 ]\t[-10000.            3.            0.002703]\t[     0.896031      6.        10000.      ]\n",
      "31 \t36    \t[-599.162955    3.8       600.002783]   \t[ 2375.079893     1.131371  2374.867714]\t[-10000.            3.            0.001461]\t[     0.896031      8.        10000.      ]\n",
      "32 \t28    \t[-1199.214658     4.14      1200.002915]\t[ 3249.905369     1.077219  3249.614285]\t[-10000.            3.            0.002703]\t[     0.896031      6.        10000.      ]\n",
      "33 \t31    \t[-1799.268719     4.66      1800.002951]\t[ 3842.217163     1.124455  3841.87316 ]\t[-10000.            3.            0.002703]\t[     0.896031      7.        10000.      ]\n",
      "34 \t33    \t[-1999.286079     4.9       2000.003079]\t[ 4000.35696      1.024695  3999.998461]\t[-10000.            4.            0.002703]\t[     0.896031      8.        10000.      ]\n",
      "35 \t30    \t[-599.161162    4.36      600.003644]   \t[ 2375.080346     0.685857  2374.867497]\t[-10000.            3.            0.002446]\t[     0.896031      7.        10000.      ]\n",
      "36 \t26    \t[-799.17565     4.38      800.003592]   \t[ 2713.175081     0.869253  2712.930934]\t[-10000.            4.            0.003904]\t[     0.896118      8.        10000.      ]\n",
      "37 \t25    \t[-399.143383    4.32      400.003746]   \t[ 1959.766651     0.614492  1959.59103 ]\t[-10000.            4.            0.002703]\t[     0.896118      7.        10000.      ]\n",
      "38 \t31    \t[-999.194211    4.58     1000.003496]   \t[ 3000.268596     0.826801  2999.998835]\t[-10000.            3.            0.001774]\t[     0.896118      8.        10000.      ]\n",
      "39 \t27    \t[-1399.229393     5.02      1400.003415]\t[ 3470.181234     0.86      3469.868937]\t[-10000.            4.            0.003904]\t[     0.896118      8.        10000.      ]\n",
      "40 \t19    \t[-999.193892    5.08     1000.003555]   \t[ 3000.268703     0.688186  2999.998815]\t[-10000.            4.            0.002798]\t[     0.896118      8.        10000.      ]\n",
      "Features selected by GeneticSelectionCV:  Index(['gender', 'age', 'heart_rate_min', 'sofa_coagulation', 'sofa_cns'], dtype='object')\n",
      "Accuracy score:  0.8886062626085431\n",
      "Confusion matrix:  [[4581  751]\n",
      " [ 519 5550]]\n"
     ]
    },
    {
     "name": "stderr",
     "output_type": "stream",
     "text": [
      "/home/haozhe/anaconda3/envs/sph6004/lib/python3.8/site-packages/sklearn/utils/metaestimators.py:121: FutureWarning: if_delegate_has_method was deprecated in version 1.1 and will be removed in version 1.3. Use available_if instead.\n",
      "  warnings.warn(\n",
      "/home/haozhe/anaconda3/envs/sph6004/lib/python3.8/site-packages/sklearn/base.py:413: UserWarning: X has feature names, but GeneticSelectionCV was fitted without feature names\n",
      "  warnings.warn(\n"
     ]
    },
    {
     "data": {
      "image/png": "[encoded data removed]",
      "text/plain": [
       "<Figure size 640x480 with 2 Axes>"
      ]
     },
     "metadata": {},
     "output_type": "display_data"
    },
    {
     "name": "stdout",
     "output_type": "stream",
     "text": [
      "Precision score:  0.8808125694334232\n",
      "Recall score:  0.9144834404349975\n",
      "F1 score:  0.8973322554567502\n",
      "AUROC score:  0.8868178642535078\n"
     ]
    }
   ],
   "source": [
    "# Train a gradient boosting classifier using GeneticSelectionCV\n",
    "ab = AdaBoostClassifier(n_estimators=15, random_state=42)\n",
    "selector = GeneticSelectionCV(ab,\n",
    "                              cv=5,\n",
    "                              verbose=1,\n",
    "                              scoring=\"accuracy\",\n",
    "                              max_features=5,\n",
    "                              n_population=50,\n",
    "                              crossover_proba=0.5,\n",
    "                              mutation_proba=0.2,\n",
    "                              n_generations=40,\n",
    "                              crossover_independent_proba=0.5,\n",
    "                              mutation_independent_proba=0.05,\n",
    "                              tournament_size=3,\n",
    "                              n_gen_no_change=10,\n",
    "                              caching=True,\n",
    "                              n_jobs=-2)\n",
    "\n",
    "selectors = selector.fit(X_base_train, y_base_train)\n",
    "\n",
    "# Print the features names selected by GeneticSelectionCV\n",
    "print('Features selected by GeneticSelectionCV: ', X_base_train.columns[selectors.support_])\n",
    "\n",
    "# Predict the outcome of the test set\n",
    "y_base_pred = selector.predict(X_base_test)\n",
    "\n",
    "# Print the accuracy, precision, recall and F1 scores\n",
    "print('Accuracy score: ', accuracy_score(y_base_test, y_base_pred))\n",
    "print('Precision score: ', precision_score(y_base_test, y_base_pred))\n",
    "print('Recall score: ', recall_score(y_base_test, y_base_pred))\n",
    "print('F1 score: ', f1_score(y_base_test, y_base_pred))\n",
    "\n",
    "# Print and plot the confusion matrix\n",
    "print('Confusion matrix: ', confusion_matrix(y_base_test, y_base_pred))\n",
    "sns.heatmap(confusion_matrix(y_base_test, y_base_pred), annot=True, fmt='d')\n",
    "plt.show()\n",
    "\n",
    "# Print the AUROC score\n",
    "print('AUROC score: ', roc_auc_score(y_base_test, y_base_pred))"
   ]
  },
  {
   "attachments": {},
   "cell_type": "markdown",
   "metadata": {},
   "source": [
    "### Support Vector Machine Classifier"
   ]
  },
  {
   "cell_type": "code",
   "execution_count": 65,
   "metadata": {},
   "outputs": [
    {
     "name": "stdout",
     "output_type": "stream",
     "text": [
      "Fitting 5 folds for each of 9 candidates, totalling 45 fits\n",
      "[CV] END .....................................C=0.1, gamma=1; total time= 1.0min\n",
      "[CV] END .....................................C=0.1, gamma=1; total time=  55.6s\n",
      "[CV] END .....................................C=0.1, gamma=1; total time=  53.3s\n",
      "[CV] END .....................................C=0.1, gamma=1; total time=  53.0s\n",
      "[CV] END .....................................C=0.1, gamma=1; total time=  53.0s\n",
      "[CV] END ...................................C=0.1, gamma=0.1; total time=  59.7s\n",
      "[CV] END ...................................C=0.1, gamma=0.1; total time=  59.4s\n",
      "[CV] END ...................................C=0.1, gamma=0.1; total time=  59.5s\n",
      "[CV] END ...................................C=0.1, gamma=0.1; total time=  59.5s\n",
      "[CV] END ...................................C=0.1, gamma=0.1; total time=  59.2s\n",
      "[CV] END ..................................C=0.1, gamma=0.01; total time= 1.2min\n",
      "[CV] END ..................................C=0.1, gamma=0.01; total time= 1.2min\n",
      "[CV] END ..................................C=0.1, gamma=0.01; total time= 1.1min\n",
      "[CV] END ..................................C=0.1, gamma=0.01; total time= 1.1min\n",
      "[CV] END ..................................C=0.1, gamma=0.01; total time= 1.1min\n",
      "[CV] END .......................................C=1, gamma=1; total time=  49.1s\n",
      "[CV] END .......................................C=1, gamma=1; total time=  49.1s\n",
      "[CV] END .......................................C=1, gamma=1; total time=  49.7s\n",
      "[CV] END .......................................C=1, gamma=1; total time=  48.7s\n",
      "[CV] END .......................................C=1, gamma=1; total time=  53.0s\n",
      "[CV] END .....................................C=1, gamma=0.1; total time=  51.9s\n",
      "[CV] END .....................................C=1, gamma=0.1; total time=  50.8s\n",
      "[CV] END .....................................C=1, gamma=0.1; total time=  51.2s\n",
      "[CV] END .....................................C=1, gamma=0.1; total time=  51.4s\n",
      "[CV] END .....................................C=1, gamma=0.1; total time=  51.6s\n",
      "[CV] END ....................................C=1, gamma=0.01; total time= 1.0min\n",
      "[CV] END ....................................C=1, gamma=0.01; total time= 1.0min\n",
      "[CV] END ....................................C=1, gamma=0.01; total time= 1.0min\n",
      "[CV] END ....................................C=1, gamma=0.01; total time= 1.0min\n",
      "[CV] END ....................................C=1, gamma=0.01; total time= 1.0min\n",
      "[CV] END ......................................C=10, gamma=1; total time= 1.6min\n",
      "[CV] END ......................................C=10, gamma=1; total time= 1.6min\n",
      "[CV] END ......................................C=10, gamma=1; total time= 1.6min\n",
      "[CV] END ......................................C=10, gamma=1; total time= 1.6min\n",
      "[CV] END ......................................C=10, gamma=1; total time= 1.6min\n",
      "[CV] END ....................................C=10, gamma=0.1; total time=  50.0s\n",
      "[CV] END ....................................C=10, gamma=0.1; total time=  49.3s\n",
      "[CV] END ....................................C=10, gamma=0.1; total time=  49.4s\n",
      "[CV] END ....................................C=10, gamma=0.1; total time=  49.1s\n",
      "[CV] END ....................................C=10, gamma=0.1; total time=  49.6s\n",
      "[CV] END ...................................C=10, gamma=0.01; total time=  55.7s\n",
      "[CV] END ...................................C=10, gamma=0.01; total time=  55.9s\n",
      "[CV] END ...................................C=10, gamma=0.01; total time=  55.4s\n",
      "[CV] END ...................................C=10, gamma=0.01; total time=  54.9s\n",
      "[CV] END ...................................C=10, gamma=0.01; total time=  55.7s\n",
      "Best parameters:  {'C': 10, 'gamma': 1}\n",
      "Accuracy score:  0.9558810630646435\n",
      "Confusion matrix:  [[4903  429]\n",
      " [  74 5995]]\n"
     ]
    },
    {
     "data": {
      "image/png": "[encoded data removed]",
      "text/plain": [
       "<Figure size 640x480 with 2 Axes>"
      ]
     },
     "metadata": {},
     "output_type": "display_data"
    },
    {
     "name": "stdout",
     "output_type": "stream",
     "text": [
      "Precision score:  0.9332191780821918\n",
      "Recall score:  0.9878068874608666\n",
      "F1 score:  0.9597374529736652\n",
      "AUROC score:  0.9536746365286328\n"
     ]
    }
   ],
   "source": [
    "# Train a support vector machine classifier using all 32 features (C and gamma are tuned using GridSearchCV)\n",
    "from sklearn.model_selection import GridSearchCV\n",
    "svc = SVC(kernel='rbf', random_state=42)\n",
    "param_grid = {'C': [0.1, 1, 10], 'gamma': [1, 0.1, 0.01]}\n",
    "grid = GridSearchCV(svc, param_grid, refit=True, verbose=2)\n",
    "grid.fit(X_base_train, y_base_train)\n",
    "\n",
    "# Print the best parameters\n",
    "print('Best parameters: ', grid.best_params_)\n",
    "\n",
    "# Predict the outcome of the test set\n",
    "y_base_pred = grid.predict(X_base_test)\n",
    "\n",
    "# Print the accuracy, precision, recall and F1 scores\n",
    "print('Accuracy score: ', accuracy_score(y_base_test, y_base_pred))\n",
    "print('Precision score: ', precision_score(y_base_test, y_base_pred))\n",
    "print('Recall score: ', recall_score(y_base_test, y_base_pred))\n",
    "print('F1 score: ', f1_score(y_base_test, y_base_pred))\n",
    "\n",
    "# Print and plot the confusion matrix\n",
    "print('Confusion matrix: ', confusion_matrix(y_base_test, y_base_pred))\n",
    "sns.heatmap(confusion_matrix(y_base_test, y_base_pred), annot=True, fmt='d')\n",
    "plt.show()\n",
    "\n",
    "# Print the AUROC score\n",
    "print('AUROC score: ', roc_auc_score(y_base_test, y_base_pred))"
   ]
  },
  {
   "cell_type": "code",
   "execution_count": 62,
   "metadata": {},
   "outputs": [
    {
     "name": "stdout",
     "output_type": "stream",
     "text": [
      "Fitting 5 folds for each of 9 candidates, totalling 45 fits\n",
      "[CV] END .....................................C=0.1, gamma=1; total time=  28.7s\n",
      "[CV] END .....................................C=0.1, gamma=1; total time=  28.4s\n",
      "[CV] END .....................................C=0.1, gamma=1; total time=  28.3s\n",
      "[CV] END .....................................C=0.1, gamma=1; total time=  28.4s\n",
      "[CV] END .....................................C=0.1, gamma=1; total time=  28.4s\n",
      "[CV] END ...................................C=0.1, gamma=0.1; total time=  29.9s\n",
      "[CV] END ...................................C=0.1, gamma=0.1; total time=  30.2s\n",
      "[CV] END ...................................C=0.1, gamma=0.1; total time=  30.4s\n",
      "[CV] END ...................................C=0.1, gamma=0.1; total time=  30.0s\n",
      "[CV] END ...................................C=0.1, gamma=0.1; total time=  30.4s\n",
      "[CV] END ..................................C=0.1, gamma=0.01; total time=  34.5s\n",
      "[CV] END ..................................C=0.1, gamma=0.01; total time=  34.9s\n",
      "[CV] END ..................................C=0.1, gamma=0.01; total time=  34.2s\n",
      "[CV] END ..................................C=0.1, gamma=0.01; total time=  35.3s\n",
      "[CV] END ..................................C=0.1, gamma=0.01; total time=  34.5s\n",
      "[CV] END .......................................C=1, gamma=1; total time=  28.8s\n",
      "[CV] END .......................................C=1, gamma=1; total time=  28.3s\n",
      "[CV] END .......................................C=1, gamma=1; total time=  28.5s\n",
      "[CV] END .......................................C=1, gamma=1; total time=  28.6s\n",
      "[CV] END .......................................C=1, gamma=1; total time=  28.3s\n",
      "[CV] END .....................................C=1, gamma=0.1; total time=  28.3s\n",
      "[CV] END .....................................C=1, gamma=0.1; total time=  28.7s\n",
      "[CV] END .....................................C=1, gamma=0.1; total time=  28.7s\n",
      "[CV] END .....................................C=1, gamma=0.1; total time=  28.4s\n",
      "[CV] END .....................................C=1, gamma=0.1; total time=  28.9s\n",
      "[CV] END ....................................C=1, gamma=0.01; total time=  31.0s\n",
      "[CV] END ....................................C=1, gamma=0.01; total time=  31.3s\n",
      "[CV] END ....................................C=1, gamma=0.01; total time=  30.6s\n",
      "[CV] END ....................................C=1, gamma=0.01; total time=  31.3s\n",
      "[CV] END ....................................C=1, gamma=0.01; total time=  30.9s\n",
      "[CV] END ......................................C=10, gamma=1; total time=  34.6s\n",
      "[CV] END ......................................C=10, gamma=1; total time=  34.4s\n",
      "[CV] END ......................................C=10, gamma=1; total time=  34.9s\n",
      "[CV] END ......................................C=10, gamma=1; total time=  34.8s\n",
      "[CV] END ......................................C=10, gamma=1; total time=  34.2s\n",
      "[CV] END ....................................C=10, gamma=0.1; total time=  28.5s\n",
      "[CV] END ....................................C=10, gamma=0.1; total time=  27.4s\n",
      "[CV] END ....................................C=10, gamma=0.1; total time=  27.4s\n",
      "[CV] END ....................................C=10, gamma=0.1; total time=  27.5s\n",
      "[CV] END ....................................C=10, gamma=0.1; total time=  27.9s\n",
      "[CV] END ...................................C=10, gamma=0.01; total time=  29.1s\n",
      "[CV] END ...................................C=10, gamma=0.01; total time=  28.5s\n",
      "[CV] END ...................................C=10, gamma=0.01; total time=  28.9s\n",
      "[CV] END ...................................C=10, gamma=0.01; total time=  29.5s\n",
      "[CV] END ...................................C=10, gamma=0.01; total time=  28.9s\n",
      "Best parameters:  {'C': 10, 'gamma': 1}\n",
      "Accuracy score:  0.7628278221208666\n",
      "Precision score:  0.7443718228031954\n",
      "Recall score:  0.8444554292305158\n",
      "F1 score:  0.7912613864443415\n",
      "Confusion matrix:  [[3572 1760]\n",
      " [ 944 5125]]\n"
     ]
    },
    {
     "data": {
      "image/png": "[encoded data removed]",
      "text/plain": [
       "<Figure size 640x480 with 2 Axes>"
      ]
     },
     "metadata": {},
     "output_type": "display_data"
    },
    {
     "name": "stdout",
     "output_type": "stream",
     "text": [
      "AUROC score:  0.7571864543001792\n"
     ]
    }
   ],
   "source": [
    "# Train a support vector machine classifier using features selected by Elastic Net (C and gamma are tuned using GridSearchCV) \n",
    "from sklearn.model_selection import GridSearchCV\n",
    "svc = SVC(kernel='rbf', random_state=42)\n",
    "param_grid = {'C': [0.1, 1, 10], 'gamma': [1, 0.1, 0.01]}\n",
    "grid = GridSearchCV(svc, param_grid, refit=True, verbose=2)\n",
    "grid.fit(X_train, y_train)\n",
    "\n",
    "# Print the best parameters\n",
    "print('Best parameters: ', grid.best_params_)\n",
    "\n",
    "# Predict the outcome of the test set\n",
    "y_pred = grid.predict(X_test)\n",
    "\n",
    "# Print the accuracy, precision, recall and F1 scores\n",
    "print('Accuracy score: ', accuracy_score(y_test, y_pred))\n",
    "print('Precision score: ', precision_score(y_test, y_pred))\n",
    "print('Recall score: ', recall_score(y_test, y_pred))\n",
    "print('F1 score: ', f1_score(y_test, y_pred))\n",
    "\n",
    "# Print and plot the confusion matrix\n",
    "print('Confusion matrix: ', confusion_matrix(y_test, y_pred))\n",
    "sns.heatmap(confusion_matrix(y_test, y_pred), annot=True, fmt='d')\n",
    "plt.show()\n",
    "\n",
    "# Print the AUROC score\n",
    "print('AUROC score: ', roc_auc_score(y_test, y_pred))"
   ]
  },
  {
   "cell_type": "code",
   "execution_count": 66,
   "metadata": {},
   "outputs": [
    {
     "name": "stdout",
     "output_type": "stream",
     "text": [
      "Selecting features with genetic algorithm.\n",
      "gen\tnevals\tavg                            \tstd                            \tmin                            \tmax                            \n",
      "0  \t50    \t[ 0.614617  3.2       0.004093]\t[ 0.052841  1.456022  0.001319]\t[ 0.527281  1.        0.001884]\t[ 0.754518  5.        0.007983]\n",
      "1  \t36    \t[-2199.476772     4.46      2200.003054]\t[ 4142.740914     1.329812  4142.461414]\t[-10000.            2.            0.001824]\t[     0.755461      7.        10000.      ]\n",
      "2  \t33    \t[-1199.377607     4.32      1200.003652]\t[ 3249.845196     1.271849  3249.614013]\t[-10000.            1.            0.001824]\t[     0.761447      8.        10000.      ]\n",
      "3  \t34    \t[-1999.415104     4.52      2000.003171]\t[ 4000.292448     1.299846  3999.998414]\t[-10000.            1.            0.001824]\t[     0.761447      7.        10000.      ]\n",
      "4  \t34    \t[-1799.384921     4.44      1800.003705]\t[ 3842.16272      1.458218  3841.872806]\t[-10000.            1.            0.001824]\t[     0.761996      8.        10000.      ]\n",
      "5  \t30    \t[-1599.366314     4.8       1600.002902]\t[ 3666.337119     1.4       3666.059289]\t[-10000.            2.            0.001697]\t[     0.762303      9.        10000.      ]\n",
      "6  \t28    \t[-2599.437626     5.        2600.002059]\t[ 4386.675787     1.        4386.34122 ]\t[-10000.           3.           0.00242]   \t[     0.762807      8.        10000.      ]\n",
      "7  \t28    \t[-1799.378765     5.14      1800.002332]\t[ 3842.165604     0.872009  3841.87345 ]\t[-10000.           3.           0.00242]   \t[     0.76307      8.       10000.     ]   \n",
      "8  \t30    \t[-2399.421596     5.26      2400.002235]\t[ 4271.156336     1.261903  4270.830045]\t[-10000.           3.           0.00242]   \t[     0.76307      9.       10000.     ]   \n",
      "9  \t28    \t[-1799.377239     5.1       1800.002376]\t[ 3842.166319     0.781025  3841.873429]\t[-10000.           4.           0.00242]   \t[     0.765548      8.        10000.      ]\n",
      "10 \t29    \t[-2199.405923     5.2       2200.0024  ]\t[ 4142.778541     1.113553  4142.461761]\t[-10000.            3.            0.001614]\t[     0.765548     10.        10000.      ]\n",
      "11 \t27    \t[-1599.360085     4.96      1600.002524]\t[ 3666.339838     1.019019  3666.059454]\t[-10000.            3.            0.002012]\t[     0.766009      9.        10000.      ]\n",
      "12 \t28    \t[-1799.37522      4.86      1800.002435]\t[ 3842.167265     0.959375  3841.873402]\t[-10000.            3.            0.002012]\t[     0.766009      7.        10000.      ]\n",
      "13 \t28    \t[-2199.406773     5.04      2200.002172]\t[ 4142.77809      1.019019  4142.461882]\t[-10000.            3.            0.002012]\t[     0.769759      9.        10000.      ]\n",
      "14 \t32    \t[-2199.404657     5.        2200.002073]\t[ 4142.779213     0.959166  4142.461935]\t[-10000.            3.            0.002012]\t[     0.769759      9.        10000.      ]\n",
      "15 \t26    \t[-2399.418853     5.08      2400.002038]\t[ 4271.157877     0.744043  4270.830155]\t[-10000.            4.            0.001949]\t[     0.769759      7.        10000.      ]\n",
      "16 \t25    \t[-1799.371275     5.24      1800.002084]\t[ 3842.169114     0.928655  3841.873566]\t[-10000.            4.            0.002012]\t[     0.769759      9.        10000.      ]\n",
      "17 \t27    \t[-999.308565    5.1      1000.002447]   \t[ 3000.230478     0.608276  2999.999184]\t[-10000.            4.            0.002012]\t[     0.769759      8.        10000.      ]\n",
      "18 \t31    \t[-1399.338461     5.22      1400.002443]\t[ 3470.137228     0.60959   3469.869329]\t[-10000.            5.            0.002012]\t[     0.769759      8.        10000.      ]\n",
      "19 \t20    \t[-999.307217    5.2      1000.002597]   \t[ 3000.230928     0.69282   2999.999134]\t[-10000.            5.            0.002886]\t[     0.769759      9.        10000.      ]\n",
      "20 \t29    \t[-1399.338236     5.36      1400.002495]\t[ 3470.137319     0.974885  3469.869308]\t[-10000.            5.            0.002886]\t[     0.769759     10.        10000.      ]\n",
      "21 \t35    \t[-599.276427    5.08      600.002712]   \t[ 2375.051225     0.337046  2374.867732]\t[-10000.            5.            0.002886]\t[     0.769759      7.        10000.      ]\n",
      "22 \t22    \t[-799.29241     5.08      800.002668]   \t[ 2713.14065      0.56      2712.931207]\t[-10000.            3.            0.002886]\t[     0.769759      8.        10000.      ]\n",
      "23 \t33    \t[-1599.353517     5.36      1600.002421]\t[ 3666.342704     0.932952  3666.0595  ]\t[-10000.            4.            0.002722]\t[     0.769759      8.        10000.      ]\n",
      "Features selected by GeneticSelectionCV:  Index(['gender', 'hemoglobin_min', 'sofa_coagulation', 'sofa_cardiovascular',\n",
      "       'sofa_cns'],\n",
      "      dtype='object')\n"
     ]
    },
    {
     "name": "stderr",
     "output_type": "stream",
     "text": [
      "/home/haozhe/anaconda3/envs/sph6004/lib/python3.8/site-packages/sklearn/utils/metaestimators.py:121: FutureWarning: if_delegate_has_method was deprecated in version 1.1 and will be removed in version 1.3. Use available_if instead.\n",
      "  warnings.warn(\n",
      "/home/haozhe/anaconda3/envs/sph6004/lib/python3.8/site-packages/sklearn/base.py:413: UserWarning: X has feature names, but GeneticSelectionCV was fitted without feature names\n",
      "  warnings.warn(\n"
     ]
    },
    {
     "name": "stdout",
     "output_type": "stream",
     "text": [
      "Accuracy score:  0.760810455223226\n",
      "Confusion matrix:  [[3630 1702]\n",
      " [1025 5044]]\n"
     ]
    },
    {
     "data": {
      "image/png": "[encoded data removed]",
      "text/plain": [
       "<Figure size 640x480 with 2 Axes>"
      ]
     },
     "metadata": {},
     "output_type": "display_data"
    },
    {
     "name": "stdout",
     "output_type": "stream",
     "text": [
      "Precision score:  0.7477023421286688\n",
      "Recall score:  0.8311089141538969\n",
      "F1 score:  0.7872024970737416\n",
      "AUROC score:  0.7559520564767983\n"
     ]
    }
   ],
   "source": [
    "# Train a gradient boosting classifier using GeneticSelectionCV\n",
    "svc = svc = SVC(C=10, gamma=1, kernel='rbf', random_state=42)\n",
    "selector = GeneticSelectionCV(svc,\n",
    "                              cv=5,\n",
    "                              verbose=1,\n",
    "                              scoring=\"accuracy\",\n",
    "                              max_features=5,\n",
    "                              n_population=50,\n",
    "                              crossover_proba=0.5,\n",
    "                              mutation_proba=0.2,\n",
    "                              n_generations=40,\n",
    "                              crossover_independent_proba=0.5,\n",
    "                              mutation_independent_proba=0.05,\n",
    "                              tournament_size=3,\n",
    "                              n_gen_no_change=10,\n",
    "                              caching=True,\n",
    "                              n_jobs=-2)\n",
    "\n",
    "selectors = selector.fit(X_base_train, y_base_train)\n",
    "\n",
    "# Print the features names selected by GeneticSelectionCV\n",
    "print('Features selected by GeneticSelectionCV: ', X_base_train.columns[selectors.support_])\n",
    "\n",
    "# Predict the outcome of the test set\n",
    "y_base_pred = selector.predict(X_base_test)\n",
    "\n",
    "# Print the accuracy, precision, recall and F1 scores\n",
    "print('Accuracy score: ', accuracy_score(y_base_test, y_base_pred))\n",
    "print('Precision score: ', precision_score(y_base_test, y_base_pred))\n",
    "print('Recall score: ', recall_score(y_base_test, y_base_pred))\n",
    "print('F1 score: ', f1_score(y_base_test, y_base_pred))\n",
    "\n",
    "# Print and plot the confusion matrix\n",
    "print('Confusion matrix: ', confusion_matrix(y_base_test, y_base_pred))\n",
    "sns.heatmap(confusion_matrix(y_base_test, y_base_pred), annot=True, fmt='d')\n",
    "plt.show()\n",
    "\n",
    "# Print the AUROC score\n",
    "print('AUROC score: ', roc_auc_score(y_base_test, y_base_pred))"
   ]
  }
 ],
 "metadata": {
  "kernelspec": {
   "display_name": "sph6004",
   "language": "python",
   "name": "python3"
  },
  "language_info": {
   "codemirror_mode": {
    "name": "ipython",
    "version": 3
   },
   "file_extension": ".py",
   "mimetype": "text/x-python",
   "name": "python",
   "nbconvert_exporter": "python",
   "pygments_lexer": "ipython3",
   "version": "3.8.16"
  },
  "orig_nbformat": 4,
  "vscode": {
   "interpreter": {
    "hash": "3bd8cf7d7029ee9b4870fe97b13ed97ef511d93214b6f9d8e67f517cb1c714d2"
   }
  }
 },
 "nbformat": 4,
 "nbformat_minor": 2
}
